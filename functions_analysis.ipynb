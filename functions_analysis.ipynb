{
 "cells": [
  {
   "cell_type": "markdown",
   "metadata": {},
   "source": [
    "# Зависимости"
   ]
  },
  {
   "cell_type": "code",
   "execution_count": 43,
   "metadata": {},
   "outputs": [],
   "source": [
    "import csv\n",
    "from functions import (load_portion_functions, append_functions_infile, \n",
    "                       filter_functions_name, load_functions)\n",
    "from settings import FUNCTIONS_PATH, FILTERED_FUNCTIONS_PATH"
   ]
  },
  {
   "cell_type": "markdown",
   "metadata": {},
   "source": [
    "# Выполнение анализа имен функций"
   ]
  },
  {
   "cell_type": "markdown",
   "metadata": {},
   "source": [
    "`uniq_names` - словарь уникальных значений функций со стчетчиком"
   ]
  },
  {
   "cell_type": "code",
   "execution_count": null,
   "metadata": {},
   "outputs": [],
   "source": [
    "uniq_names = {}"
   ]
  },
  {
   "cell_type": "markdown",
   "metadata": {},
   "source": [
    "### Подсчет уникальных имен функций\n",
    "\n",
    "Из-за большого размера файлов оперативная память не справиться с обработкой, поэтому производится порциональный анализ функций.\n",
    "\n",
    "* batch - размер порции (1000 для ОЗУ объемом 4 Гб)"
   ]
  },
  {
   "cell_type": "code",
   "execution_count": null,
   "metadata": {},
   "outputs": [],
   "source": [
    "batch = 1000\n",
    "pos = 0\n",
    "functions, pos = load_portion_functions(FUNCTIONS_PATH, pos, 1)\n",
    "\n",
    "print('Progress:')\n",
    "while True:\n",
    "    functions, pos = load_portion_functions(FUNCTIONS_PATH, pos, batch)\n",
    "    if not functions:\n",
    "        break\n",
    "\n",
    "    # Упростить названия функций\n",
    "    for i,f in enumerate(functions):\n",
    "        functions[i][0]['value'] = functions[i][0]['value'].lower().replace('__', '')\n",
    "        \n",
    "    # Добавить имена в словарь подсчета\n",
    "    for func in functions:\n",
    "        uniq_names[func[0]['value']] = uniq_names.get(func[0]['value'], 0) + 1\n",
    "    \n",
    "    print('.', end='')"
   ]
  },
  {
   "cell_type": "code",
   "execution_count": null,
   "metadata": {},
   "outputs": [],
   "source": [
    "print('Уникальных функций:', len(uniq_names))"
   ]
  },
  {
   "cell_type": "markdown",
   "metadata": {},
   "source": [
    "### Выбор самых частотных имен функций\n",
    "\n",
    "* thresholder - задает порог вхождения функции в выборку"
   ]
  },
  {
   "cell_type": "code",
   "execution_count": null,
   "metadata": {},
   "outputs": [],
   "source": [
    "thresholder = 300\n",
    "names = []\n",
    "for name, count in uniq_names.items():\n",
    "    if count > thresholder:\n",
    "        names.append([name,count])\n",
    "names = sorted(names, key=lambda x: x[1], reverse=True)"
   ]
  },
  {
   "cell_type": "code",
   "execution_count": null,
   "metadata": {},
   "outputs": [],
   "source": [
    "print('Уникальных имен функций: ', len(names))"
   ]
  },
  {
   "cell_type": "markdown",
   "metadata": {},
   "source": [
    "### Фильтрация имен функций по значению\n",
    "\n",
    "В выборку попадают функции, которые сложно классифицировать по их сниппету, поэтому такие имена функций исключаются из выборки."
   ]
  },
  {
   "cell_type": "code",
   "execution_count": null,
   "metadata": {},
   "outputs": [],
   "source": [
    "bad_names = ['main', 'run', 'init',\n",
    "            'iter', 'enter','exit',\n",
    "            'hash', 'del',\n",
    "            'nonzero', 'func', 'foo', '_run']\n",
    "names = list(filter(lambda name: name[0] not in bad_names and len(name[0]) > 2, names))"
   ]
  },
  {
   "cell_type": "code",
   "execution_count": null,
   "metadata": {},
   "outputs": [],
   "source": [
    "print('Уникальных имен функций после чистки на неподходящие имена: ', len(names))"
   ]
  },
  {
   "cell_type": "code",
   "execution_count": null,
   "metadata": {},
   "outputs": [],
   "source": [
    "names[:5]"
   ]
  },
  {
   "cell_type": "code",
   "execution_count": null,
   "metadata": {},
   "outputs": [],
   "source": [
    "# Избавление от информации подсчета\n",
    "names = [name for name, count in names]"
   ]
  },
  {
   "cell_type": "markdown",
   "metadata": {},
   "source": [
    "### Фильтрация функций по выбранным именам\n",
    "\n",
    "Все функции из файла `functions.json` будут отфильтрованы по имени и записаны в новый файл `filtered_functions.json`."
   ]
  },
  {
   "cell_type": "code",
   "execution_count": null,
   "metadata": {},
   "outputs": [],
   "source": [
    "pos = 0\n",
    "functions, pos = load_portion_functions(FUNCTIONS_PATH, pos, 1)\n",
    "\n",
    "print('Progress:')\n",
    "while True:\n",
    "    functions, pos = load_portion_functions(FUNCTIONS_PATH, pos, batch)\n",
    "    if not functions:\n",
    "        break\n",
    "        \n",
    "    append_functions_infile(\n",
    "        FILTERED_FUNCTIONS_PATH, \n",
    "        filter_functions_name(functions, names)\n",
    "    )\n",
    "    print('.', end='')"
   ]
  },
  {
   "cell_type": "markdown",
   "metadata": {},
   "source": [
    "# Удаление лишних узлов функций"
   ]
  },
  {
   "cell_type": "markdown",
   "metadata": {},
   "source": [
    "Загрузка функций из файла"
   ]
  },
  {
   "cell_type": "code",
   "execution_count": 2,
   "metadata": {},
   "outputs": [
    {
     "name": "stdout",
     "output_type": "stream",
     "text": [
      "JSONDecodeError\n"
     ]
    }
   ],
   "source": [
    "functions = load_functions(FILTERED_FUNCTIONS_PATH)"
   ]
  },
  {
   "cell_type": "code",
   "execution_count": 3,
   "metadata": {},
   "outputs": [
    {
     "data": {
      "text/plain": [
       "[{'type': 'FunctionDef',\n",
       "  'children': [191, 196, 240],\n",
       "  'value': 'get_context_data'},\n",
       " {'type': 'arguments', 'children': [192, 194, 195]},\n",
       " {'type': 'args', 'children': [193]},\n",
       " {'type': 'NameParam', 'value': 'self'},\n",
       " {'type': 'defaults'},\n",
       " {'type': 'kwarg', 'value': 'kwargs'},\n",
       " {'type': 'body', 'children': [197, 207, 220, 230, 238]},\n",
       " {'type': 'Assign', 'children': [198, 199]},\n",
       " {'type': 'NameStore', 'value': 'context'},\n",
       " {'type': 'Call', 'children': [200, 206]},\n",
       " {'type': 'AttributeLoad', 'children': [201, 205]},\n",
       " {'type': 'Call', 'children': [202, 203, 204]},\n",
       " {'type': 'NameLoad', 'value': 'super'},\n",
       " {'type': 'NameLoad', 'value': 'UsageView'},\n",
       " {'type': 'NameLoad', 'value': 'self'},\n",
       " {'type': 'attr', 'value': 'get_context_data'},\n",
       " {'type': 'NameLoad', 'value': 'kwargs'},\n",
       " {'type': 'Assign', 'children': [208, 217]},\n",
       " {'type': 'SubscriptStore', 'children': [209, 215]},\n",
       " {'type': 'AttributeLoad', 'children': [210, 214]},\n",
       " {'type': 'SubscriptLoad', 'children': [211, 212]},\n",
       " {'type': 'NameLoad', 'value': 'context'},\n",
       " {'type': 'Index', 'children': [213]},\n",
       " {'type': 'Str', 'value': 'table'},\n",
       " {'type': 'attr', 'value': 'kwargs'},\n",
       " {'type': 'Index', 'children': [216]},\n",
       " {'type': 'Str', 'value': 'usage'},\n",
       " {'type': 'AttributeLoad', 'children': [218, 219]},\n",
       " {'type': 'NameLoad', 'value': 'self'},\n",
       " {'type': 'attr', 'value': 'usage'},\n",
       " {'type': 'Assign', 'children': [221, 225]},\n",
       " {'type': 'SubscriptStore', 'children': [222, 223]},\n",
       " {'type': 'NameLoad', 'value': 'context'},\n",
       " {'type': 'Index', 'children': [224]},\n",
       " {'type': 'Str', 'value': 'form'},\n",
       " {'type': 'AttributeLoad', 'children': [226, 229]},\n",
       " {'type': 'AttributeLoad', 'children': [227, 228]},\n",
       " {'type': 'NameLoad', 'value': 'self'},\n",
       " {'type': 'attr', 'value': 'usage'},\n",
       " {'type': 'attr', 'value': 'form'},\n",
       " {'type': 'Assign', 'children': [231, 235]},\n",
       " {'type': 'SubscriptStore', 'children': [232, 233]},\n",
       " {'type': 'NameLoad', 'value': 'context'},\n",
       " {'type': 'Index', 'children': [234]},\n",
       " {'type': 'Str', 'value': 'usage'},\n",
       " {'type': 'AttributeLoad', 'children': [236, 237]},\n",
       " {'type': 'NameLoad', 'value': 'self'},\n",
       " {'type': 'attr', 'value': 'usage'},\n",
       " {'type': 'Return', 'children': [239]},\n",
       " {'type': 'NameLoad', 'value': 'context'}]"
      ]
     },
     "execution_count": 3,
     "metadata": {},
     "output_type": "execute_result"
    }
   ],
   "source": [
    "functions[0]"
   ]
  },
  {
   "cell_type": "markdown",
   "metadata": {},
   "source": [
    "#### Извлечение названия функции из функции\n",
    "\n",
    "Удаление из обучающей выборки названия функции и сохранение в отдельном массиве для дальнейшей валидации."
   ]
  },
  {
   "cell_type": "code",
   "execution_count": 4,
   "metadata": {},
   "outputs": [],
   "source": [
    "labels = []\n",
    "for i, func in enumerate(functions):\n",
    "    labels.append(func[0]['value'])\n",
    "    del functions[i][0]"
   ]
  },
  {
   "cell_type": "code",
   "execution_count": 5,
   "metadata": {},
   "outputs": [
    {
     "name": "stdout",
     "output_type": "stream",
     "text": [
      "get_context_data\n"
     ]
    },
    {
     "data": {
      "text/plain": [
       "[{'type': 'arguments', 'children': [192, 194, 195]},\n",
       " {'type': 'args', 'children': [193]},\n",
       " {'type': 'NameParam', 'value': 'self'},\n",
       " {'type': 'defaults'},\n",
       " {'type': 'kwarg', 'value': 'kwargs'},\n",
       " {'type': 'body', 'children': [197, 207, 220, 230, 238]},\n",
       " {'type': 'Assign', 'children': [198, 199]},\n",
       " {'type': 'NameStore', 'value': 'context'},\n",
       " {'type': 'Call', 'children': [200, 206]},\n",
       " {'type': 'AttributeLoad', 'children': [201, 205]},\n",
       " {'type': 'Call', 'children': [202, 203, 204]},\n",
       " {'type': 'NameLoad', 'value': 'super'},\n",
       " {'type': 'NameLoad', 'value': 'UsageView'},\n",
       " {'type': 'NameLoad', 'value': 'self'},\n",
       " {'type': 'attr', 'value': 'get_context_data'},\n",
       " {'type': 'NameLoad', 'value': 'kwargs'},\n",
       " {'type': 'Assign', 'children': [208, 217]},\n",
       " {'type': 'SubscriptStore', 'children': [209, 215]},\n",
       " {'type': 'AttributeLoad', 'children': [210, 214]},\n",
       " {'type': 'SubscriptLoad', 'children': [211, 212]},\n",
       " {'type': 'NameLoad', 'value': 'context'},\n",
       " {'type': 'Index', 'children': [213]},\n",
       " {'type': 'Str', 'value': 'table'},\n",
       " {'type': 'attr', 'value': 'kwargs'},\n",
       " {'type': 'Index', 'children': [216]},\n",
       " {'type': 'Str', 'value': 'usage'},\n",
       " {'type': 'AttributeLoad', 'children': [218, 219]},\n",
       " {'type': 'NameLoad', 'value': 'self'},\n",
       " {'type': 'attr', 'value': 'usage'},\n",
       " {'type': 'Assign', 'children': [221, 225]},\n",
       " {'type': 'SubscriptStore', 'children': [222, 223]},\n",
       " {'type': 'NameLoad', 'value': 'context'},\n",
       " {'type': 'Index', 'children': [224]},\n",
       " {'type': 'Str', 'value': 'form'},\n",
       " {'type': 'AttributeLoad', 'children': [226, 229]},\n",
       " {'type': 'AttributeLoad', 'children': [227, 228]},\n",
       " {'type': 'NameLoad', 'value': 'self'},\n",
       " {'type': 'attr', 'value': 'usage'},\n",
       " {'type': 'attr', 'value': 'form'},\n",
       " {'type': 'Assign', 'children': [231, 235]},\n",
       " {'type': 'SubscriptStore', 'children': [232, 233]},\n",
       " {'type': 'NameLoad', 'value': 'context'},\n",
       " {'type': 'Index', 'children': [234]},\n",
       " {'type': 'Str', 'value': 'usage'},\n",
       " {'type': 'AttributeLoad', 'children': [236, 237]},\n",
       " {'type': 'NameLoad', 'value': 'self'},\n",
       " {'type': 'attr', 'value': 'usage'},\n",
       " {'type': 'Return', 'children': [239]},\n",
       " {'type': 'NameLoad', 'value': 'context'}]"
      ]
     },
     "execution_count": 5,
     "metadata": {},
     "output_type": "execute_result"
    }
   ],
   "source": [
    "print(labels[0])\n",
    "functions[0]"
   ]
  },
  {
   "cell_type": "markdown",
   "metadata": {},
   "source": [
    "#### Удаление длинных последовательностей\n",
    "\n",
    "Некоторые листы или словари могу иметь много элементов. Большие списки и словари будут обрезаться."
   ]
  },
  {
   "cell_type": "markdown",
   "metadata": {},
   "source": [
    "Удаление значений словарей"
   ]
  },
  {
   "cell_type": "code",
   "execution_count": 6,
   "metadata": {},
   "outputs": [],
   "source": [
    "for i,func in enumerate(functions):\n",
    "    for j,node in enumerate(func):\n",
    "        if node['type'] == 'Dict':\n",
    "            try:\n",
    "                functions[i][j]['children'] = functions[i][j]['children'][:len(functions[i][j]['children'])//2]\n",
    "            except KeyError:\n",
    "                pass"
   ]
  },
  {
   "cell_type": "code",
   "execution_count": 7,
   "metadata": {},
   "outputs": [],
   "source": [
    "uniq_values = {}"
   ]
  },
  {
   "cell_type": "code",
   "execution_count": 8,
   "metadata": {},
   "outputs": [],
   "source": [
    "for func in functions:\n",
    "    for node in func:\n",
    "        try:\n",
    "            uniq_values[node['value']] = uniq_values.get(node['value'], 0) + 1\n",
    "        except KeyError:\n",
    "            pass"
   ]
  },
  {
   "cell_type": "code",
   "execution_count": 9,
   "metadata": {},
   "outputs": [
    {
     "name": "stdout",
     "output_type": "stream",
     "text": [
      "Уникальных значений: 165907\n"
     ]
    }
   ],
   "source": [
    "print('Уникальных значений:', len(uniq_values))"
   ]
  },
  {
   "cell_type": "code",
   "execution_count": 10,
   "metadata": {},
   "outputs": [],
   "source": [
    "thresholder = 100\n",
    "values = []\n",
    "for value, count in uniq_values.items():\n",
    "    if count > thresholder:\n",
    "        values.append([value,count])\n",
    "values = sorted(values, key=lambda value: value[1], reverse=True)"
   ]
  },
  {
   "cell_type": "code",
   "execution_count": 11,
   "metadata": {},
   "outputs": [
    {
     "name": "stdout",
     "output_type": "stream",
     "text": [
      "Уникальных значений после отбора: 1296\n"
     ]
    }
   ],
   "source": [
    "print('Уникальных значений после отбора:', len(values))"
   ]
  },
  {
   "cell_type": "code",
   "execution_count": 12,
   "metadata": {},
   "outputs": [
    {
     "data": {
      "text/plain": [
       "[['self', 185954],\n",
       " ['None', 25139],\n",
       " ['result', 23946],\n",
       " ['0', 15017],\n",
       " ['True', 12940]]"
      ]
     },
     "execution_count": 12,
     "metadata": {},
     "output_type": "execute_result"
    }
   ],
   "source": [
    "values[:5]"
   ]
  },
  {
   "cell_type": "code",
   "execution_count": 13,
   "metadata": {},
   "outputs": [],
   "source": [
    "# Избавление от информации подсчета\n",
    "values = [value for value, count in values]"
   ]
  },
  {
   "cell_type": "code",
   "execution_count": 14,
   "metadata": {},
   "outputs": [],
   "source": [
    "for i,func in enumerate(functions):\n",
    "    for j,node in enumerate(func):\n",
    "        try:\n",
    "            if node['value'] in values:\n",
    "                functions[i][j] = node['value']\n",
    "            else:\n",
    "                functions[i][j] = node['type']\n",
    "        except:\n",
    "            functions[i][j] = node['type']\n",
    "            continue"
   ]
  },
  {
   "cell_type": "code",
   "execution_count": 24,
   "metadata": {},
   "outputs": [
    {
     "data": {
      "text/plain": [
       "54213"
      ]
     },
     "execution_count": 24,
     "metadata": {},
     "output_type": "execute_result"
    }
   ],
   "source": [
    "len(functions)"
   ]
  },
  {
   "cell_type": "code",
   "execution_count": 25,
   "metadata": {},
   "outputs": [],
   "source": [
    "for func in functions:\n",
    "    if type(func) != list:\n",
    "        print('F')\n",
    "    for node in func:\n",
    "        if type(node) != str:\n",
    "            print('S')"
   ]
  },
  {
   "cell_type": "code",
   "execution_count": 27,
   "metadata": {},
   "outputs": [
    {
     "name": "stdout",
     "output_type": "stream",
     "text": [
      "Средняя длина вектора АСД: 58.36911810820283\n"
     ]
    }
   ],
   "source": [
    "ave = sum(len(func) for func in functions) / len(functions)\n",
    "print('Средняя длина вектора АСД: ' + str(ave))"
   ]
  },
  {
   "cell_type": "code",
   "execution_count": 33,
   "metadata": {},
   "outputs": [],
   "source": [
    "assert len(labels) == len(functions)"
   ]
  },
  {
   "cell_type": "code",
   "execution_count": 39,
   "metadata": {},
   "outputs": [],
   "source": [
    "functions_dataset = [(label, func) for (label, func) in zip(labels, functions)]"
   ]
  },
  {
   "cell_type": "code",
   "execution_count": 42,
   "metadata": {},
   "outputs": [
    {
     "data": {
      "text/plain": [
       "54213"
      ]
     },
     "execution_count": 42,
     "metadata": {},
     "output_type": "execute_result"
    }
   ],
   "source": [
    "len(functions_dataset)"
   ]
  },
  {
   "cell_type": "code",
   "execution_count": 44,
   "metadata": {},
   "outputs": [],
   "source": [
    "def funcs_to_file(functions_train):\n",
    "    with open(f'snip_d_t.csv', 'w') as csvfile:\n",
    "        writer = csv.DictWriter(csvfile, fieldnames=['name', 'ast'])\n",
    "\n",
    "        for func in functions_train:\n",
    "                writer.writerow({'name':func[0], 'ast':','.join(func[1])})"
   ]
  },
  {
   "cell_type": "code",
   "execution_count": 45,
   "metadata": {},
   "outputs": [],
   "source": [
    "funcs_to_file(functions_dataset)"
   ]
  },
  {
   "cell_type": "code",
   "execution_count": null,
   "metadata": {},
   "outputs": [],
   "source": []
  }
 ],
 "metadata": {
  "kernelspec": {
   "display_name": "Python 3",
   "language": "python",
   "name": "python3"
  },
  "language_info": {
   "codemirror_mode": {
    "name": "ipython",
    "version": 3
   },
   "file_extension": ".py",
   "mimetype": "text/x-python",
   "name": "python",
   "nbconvert_exporter": "python",
   "pygments_lexer": "ipython3",
   "version": "3.8.2"
  }
 },
 "nbformat": 4,
 "nbformat_minor": 4
}
