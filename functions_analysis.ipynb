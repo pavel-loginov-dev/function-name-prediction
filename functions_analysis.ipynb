{
 "cells": [
  {
   "cell_type": "markdown",
   "metadata": {},
   "source": [
    "# Зависимости"
   ]
  },
  {
   "cell_type": "code",
   "execution_count": 1,
   "metadata": {},
   "outputs": [],
   "source": [
    "import csv\n",
    "import json\n",
    "from shortcuts import (read_portion_data, append_functions_in_json, \n",
    "                       filter_functions_name, dataset_save_to_csv, \n",
    "                       load_functions_from_json)\n",
    "from settings import FUNCTIONS_PATH, FILTERED_FUNCTIONS_PATH, DATASET_PATH"
   ]
  },
  {
   "cell_type": "markdown",
   "metadata": {},
   "source": [
    "# Выполнение анализа имен функций"
   ]
  },
  {
   "cell_type": "markdown",
   "metadata": {},
   "source": [
    "### Подсчёт количества функций"
   ]
  },
  {
   "cell_type": "code",
   "execution_count": 2,
   "metadata": {},
   "outputs": [
    {
     "name": "stdout",
     "output_type": "stream",
     "text": [
      "Общее количество функций в датасете: 1274485\n"
     ]
    }
   ],
   "source": [
    "with open(FUNCTIONS_PATH, 'r') as json_file:\n",
    "    func_number = 0\n",
    "    for line in json_file:\n",
    "        func_number+=1\n",
    "print('Общее количество функций в датасете:', func_number)"
   ]
  },
  {
   "cell_type": "markdown",
   "metadata": {},
   "source": [
    "### Подсчет уникальных имен функций и значений узлов\n",
    "\n",
    "Из-за большого размера файлов оперативная память не справиться с обработкой, поэтому производится порциональный анализ функций.\n",
    "\n",
    "* `batch_size` - размер порции (1000 для ОЗУ объемом 4 Гб)\n",
    "\n",
    "* `uniq_names` - словарь уникальных имен функций со стчетчиком\n",
    "\n",
    "* `uniq_values` - словарь уникальных значений узлов функций"
   ]
  },
  {
   "cell_type": "code",
   "execution_count": 3,
   "metadata": {
    "scrolled": true
   },
   "outputs": [],
   "source": [
    "uniq_names = {}\n",
    "uniq_values = {}\n",
    "\n",
    "batch_size = 1000\n",
    "pos = 0 # начальная позиция чтения файла\n",
    "counter = 0 # счётчик обработанных функций\n",
    "\n",
    "# Порционный перебор функций из датасета\n",
    "functions, pos = read_portion_data(FUNCTIONS_PATH, pos, 1)\n",
    "while functions:\n",
    "    functions, pos = read_portion_data(FUNCTIONS_PATH, pos, batch_size)\n",
    "    \n",
    "    counter += len(functions) \n",
    "        \n",
    "    # Добавить имена в словарь подсчета уникальных имен функций\n",
    "    for func in functions:\n",
    "        func = json.loads(func)\n",
    "        uniq_names[func[0]['value']] = uniq_names.get(func[0]['value'], 0) + 1\n",
    "        # Добавить имена в словарь подсчета уникальных значений узлов\n",
    "        for node in func:\n",
    "            if 'value' in node:\n",
    "                uniq_values[node['value']] = uniq_values.get(node['value'], 0) + 1\n",
    "            \n",
    "    #print('Функций обработано: ', counter, '| Ун. имен', len(uniq_names), '| Ун. знач.:', len(uniq_values))"
   ]
  },
  {
   "cell_type": "code",
   "execution_count": 69,
   "metadata": {},
   "outputs": [
    {
     "name": "stdout",
     "output_type": "stream",
     "text": [
      "Функций обработано: 1273210\n",
      "Уникальных имен функций: 535819\n",
      "Уникальных значений узлов: 2437048\n",
      "Функций потеряно: 1275\n"
     ]
    }
   ],
   "source": [
    "print(\n",
    "f'''Функций обработано: {counter}\n",
    "Уникальных имен функций: {len(uniq_names)}\n",
    "Уникальных значений узлов: {len(uniq_values)}'''\n",
    ")\n",
    "print('Функций потеряно:', func_number-counter)"
   ]
  },
  {
   "cell_type": "markdown",
   "metadata": {},
   "source": [
    "Импорт/экспорт из/в файл уникальных значений и имен функций."
   ]
  },
  {
   "cell_type": "code",
   "execution_count": 21,
   "metadata": {},
   "outputs": [],
   "source": [
    "with open('datasets/uniq_names.json', 'w') as json_file:\n",
    "    json.dump(uniq_names, json_file)\n",
    "with open('datasets/uniq_values.json', 'w') as json_file:\n",
    "    json.dump(uniq_values, json_file)"
   ]
  },
  {
   "cell_type": "code",
   "execution_count": 19,
   "metadata": {},
   "outputs": [],
   "source": [
    "with open('datasets/uniq_names.json', 'r') as json_file:\n",
    "    uniq_names = json.load(json_file)\n",
    "with open('datasets/uniq_values.json', 'r') as json_file:\n",
    "    uniq_values = json.load(json_file)"
   ]
  },
  {
   "cell_type": "markdown",
   "metadata": {},
   "source": [
    "### Выбор самых частотных имен функций\n",
    "\n",
    "* th - (thresholder) задает порог вхождения имен функциий или значений в выборку"
   ]
  },
  {
   "cell_type": "code",
   "execution_count": 20,
   "metadata": {},
   "outputs": [],
   "source": [
    "name_th = 450\n",
    "value_th = 25000"
   ]
  },
  {
   "cell_type": "code",
   "execution_count": 21,
   "metadata": {},
   "outputs": [],
   "source": [
    "def cut_dict(dictionary : dict, thresholder : int) -> set:\n",
    "    data = []\n",
    "    for key, count in dictionary.items():\n",
    "        if count > thresholder:\n",
    "            data.append(key)\n",
    "    return set(data)"
   ]
  },
  {
   "cell_type": "code",
   "execution_count": 22,
   "metadata": {},
   "outputs": [],
   "source": [
    "names = cut_dict(uniq_names, name_th)\n",
    "values = cut_dict(uniq_values, value_th)"
   ]
  },
  {
   "cell_type": "code",
   "execution_count": 23,
   "metadata": {},
   "outputs": [
    {
     "name": "stdout",
     "output_type": "stream",
     "text": [
      "Уникальных имен функций:  114\n",
      "Уникальных значений узлов функций:  166\n"
     ]
    }
   ],
   "source": [
    "print('Уникальных имен функций: ', len(names))\n",
    "print('Уникальных значений узлов функций: ', len(values))"
   ]
  },
  {
   "cell_type": "markdown",
   "metadata": {},
   "source": [
    "### Фильтрация имен функций по значению\n",
    "\n",
    "В выборку попадают функции, которые сложно классифицировать по их сниппету, поэтому такие имена функций исключаются из выборки."
   ]
  },
  {
   "cell_type": "code",
   "execution_count": 24,
   "metadata": {},
   "outputs": [],
   "source": [
    "bad_names = ['main', 'run', 'init',\n",
    "            'iter', 'enter','exit',\n",
    "            'hash', 'del', 'start',\n",
    "            'nonzero', 'func', 'foo', '_run']\n",
    "names = set(filter(lambda name: name not in bad_names and len(name) > 2, names))"
   ]
  },
  {
   "cell_type": "code",
   "execution_count": 25,
   "metadata": {},
   "outputs": [
    {
     "name": "stdout",
     "output_type": "stream",
     "text": [
      "Уникальных имен функций после чистки на неподходящие имена:  101\n"
     ]
    }
   ],
   "source": [
    "print('Уникальных имен функций после чистки на неподходящие имена: ', len(names))"
   ]
  },
  {
   "cell_type": "markdown",
   "metadata": {},
   "source": [
    "### Фильтрация уникальных значений\n",
    "\n",
    "Избавление от значений не несущих много информации"
   ]
  },
  {
   "cell_type": "code",
   "execution_count": 26,
   "metadata": {},
   "outputs": [],
   "source": [
    "values = set(filter(lambda value: len(value) > 1, values))"
   ]
  },
  {
   "cell_type": "code",
   "execution_count": 27,
   "metadata": {},
   "outputs": [
    {
     "name": "stdout",
     "output_type": "stream",
     "text": [
      "Уникальных значений после чистки на неподходящие значения:  136\n"
     ]
    }
   ],
   "source": [
    "print('Уникальных значений после чистки на неподходящие значения: ', len(values))"
   ]
  },
  {
   "cell_type": "markdown",
   "metadata": {},
   "source": [
    "## Фильтрация функций по выбранным именам и трансформация узлов\n",
    "\n",
    "Все функции из файла `functions.json` будут отфильтрованы по имени и записаны в новый файл `filtered_functions.json`."
   ]
  },
  {
   "cell_type": "markdown",
   "metadata": {},
   "source": [
    "### Фильтрация по имени"
   ]
  },
  {
   "cell_type": "code",
   "execution_count": 28,
   "metadata": {},
   "outputs": [],
   "source": [
    "batch_size = 1000 # Для ОЗУ 8 гигабайт.\n",
    "pos = 0\n",
    "filtered_func_number = 0\n",
    "\n",
    "functions, pos = read_portion_data(FUNCTIONS_PATH, pos, 1)\n",
    "while functions:\n",
    "    functions, pos = read_portion_data(FUNCTIONS_PATH, pos, batch_size)\n",
    "    \n",
    "    for i,function in enumerate(functions):\n",
    "        functions[i] = json.loads(functions[i])\n",
    "\n",
    "    filterd_functions = filter_functions_name(functions, names)\n",
    "    filtered_func_number += len(filterd_functions)\n",
    "    \n",
    "    append_functions_in_json(\n",
    "        FILTERED_FUNCTIONS_PATH,\n",
    "        filterd_functions\n",
    "    )"
   ]
  },
  {
   "cell_type": "code",
   "execution_count": 29,
   "metadata": {},
   "outputs": [
    {
     "name": "stdout",
     "output_type": "stream",
     "text": [
      "Количество функций после фильтрации: 155501\n"
     ]
    }
   ],
   "source": [
    "print('Количество функций после фильтрации:', filtered_func_number)"
   ]
  },
  {
   "cell_type": "markdown",
   "metadata": {},
   "source": [
    "### Трансформация узлов"
   ]
  },
  {
   "cell_type": "markdown",
   "metadata": {},
   "source": [
    "Только для реальных сниппетов"
   ]
  },
  {
   "cell_type": "code",
   "execution_count": 2,
   "metadata": {},
   "outputs": [],
   "source": [
    "# Выполнять только при обработке реальных сниппетов\n",
    "FILTERED_FUNCTIONS_PATH = 'datasets/f.json'\n",
    "DATASET_PATH = 'datasets/real_snippets.csv'\n",
    "\n",
    "values = json.load(open('models/dictionary_9875.json', 'r'))\n",
    "values = list(values.keys())"
   ]
  },
  {
   "cell_type": "code",
   "execution_count": 30,
   "metadata": {},
   "outputs": [],
   "source": [
    "functions = load_functions_from_json(FILTERED_FUNCTIONS_PATH)"
   ]
  },
  {
   "cell_type": "markdown",
   "metadata": {},
   "source": [
    "#### Извлечение названия функции из функции\n",
    "\n",
    "Удаление из обучающей выборки названия функции и сохранение в отдельном массиве для дальнейшей валидации."
   ]
  },
  {
   "cell_type": "code",
   "execution_count": 31,
   "metadata": {},
   "outputs": [],
   "source": [
    "for func in functions:\n",
    "    assert func[0]['type'] == 'FunctionDef'"
   ]
  },
  {
   "cell_type": "code",
   "execution_count": 32,
   "metadata": {},
   "outputs": [],
   "source": [
    "labels = []\n",
    "for i, func in enumerate(functions):\n",
    "    labels.append(functions[i][0]['value'])\n",
    "    del functions[i][0]"
   ]
  },
  {
   "cell_type": "markdown",
   "metadata": {},
   "source": [
    "#### Трансформация"
   ]
  },
  {
   "cell_type": "code",
   "execution_count": 33,
   "metadata": {},
   "outputs": [],
   "source": [
    "for i,function in enumerate(functions):\n",
    "    for j,node in enumerate(function):\n",
    "        try:\n",
    "            functions[i][j] = node['value'] if node['value'] in values else node['type']\n",
    "        except KeyError:\n",
    "            functions[i][j] = node['type']"
   ]
  },
  {
   "cell_type": "code",
   "execution_count": 34,
   "metadata": {},
   "outputs": [
    {
     "name": "stdout",
     "output_type": "stream",
     "text": [
      "Количество функций после трансформации: 155501\n"
     ]
    }
   ],
   "source": [
    "print('Количество функций после трансформации:', len(functions))"
   ]
  },
  {
   "cell_type": "code",
   "execution_count": 35,
   "metadata": {},
   "outputs": [],
   "source": [
    "assert len(labels) == len(functions)"
   ]
  },
  {
   "cell_type": "code",
   "execution_count": 36,
   "metadata": {},
   "outputs": [
    {
     "name": "stdout",
     "output_type": "stream",
     "text": [
      "close ['arguments', 'args', 'self', 'defaults', 'body', 'If', 'AttributeLoad', 'self', 'attr', 'body', 'Expr', 'Call', 'AttributeLoad', 'AttributeLoad', 'self', 'attr', 'attr']\n"
     ]
    }
   ],
   "source": [
    "print(labels[0], functions[0])"
   ]
  },
  {
   "cell_type": "code",
   "execution_count": 37,
   "metadata": {},
   "outputs": [
    {
     "name": "stdout",
     "output_type": "stream",
     "text": [
      "Средняя длина вектора АСД: 49.860245271734584\n"
     ]
    }
   ],
   "source": [
    "ave = sum(len(func) for func in functions) / len(functions)\n",
    "print('Средняя длина вектора АСД: ' + str(ave))"
   ]
  },
  {
   "cell_type": "markdown",
   "metadata": {},
   "source": [
    "# Сохранение финального датасета"
   ]
  },
  {
   "cell_type": "markdown",
   "metadata": {},
   "source": [
    "Соединение функции с ее меткой (названием)"
   ]
  },
  {
   "cell_type": "code",
   "execution_count": 38,
   "metadata": {},
   "outputs": [],
   "source": [
    "functions_dataset = [(label, func) for (label, func) in zip(labels, functions)]"
   ]
  },
  {
   "cell_type": "markdown",
   "metadata": {},
   "source": [
    "Сохранение финального датасета для обучения в `.csv` файл"
   ]
  },
  {
   "cell_type": "code",
   "execution_count": 39,
   "metadata": {},
   "outputs": [],
   "source": [
    "dataset_save_to_csv(DATASET_PATH, functions_dataset)"
   ]
  },
  {
   "cell_type": "code",
   "execution_count": null,
   "metadata": {},
   "outputs": [],
   "source": [
    "#end"
   ]
  }
 ],
 "metadata": {
  "kernelspec": {
   "display_name": "Python 3",
   "language": "python",
   "name": "python3"
  },
  "language_info": {
   "codemirror_mode": {
    "name": "ipython",
    "version": 3
   },
   "file_extension": ".py",
   "mimetype": "text/x-python",
   "name": "python",
   "nbconvert_exporter": "python",
   "pygments_lexer": "ipython3",
   "version": "3.6.8"
  }
 },
 "nbformat": 4,
 "nbformat_minor": 4
}
