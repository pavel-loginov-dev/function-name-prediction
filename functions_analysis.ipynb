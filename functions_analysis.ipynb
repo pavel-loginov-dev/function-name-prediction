{
 "cells": [
  {
   "cell_type": "markdown",
   "metadata": {},
   "source": [
    "# Зависимости"
   ]
  },
  {
   "cell_type": "code",
   "execution_count": null,
   "metadata": {},
   "outputs": [],
   "source": [
    "from functions import (load_portion_functions, append_functions_infile,\n",
    "                       filter_functions_name)\n",
    "from settings import FUNCTIONS_PATH, FILTERED_FUNCTIONS_PATH"
   ]
  },
  {
   "cell_type": "markdown",
   "metadata": {},
   "source": [
    "# Выполнение анализа имен функций"
   ]
  },
  {
   "cell_type": "markdown",
   "metadata": {},
   "source": [
    "`uniq_names` - словарь уникальных значений функций со стчетчиком"
   ]
  },
  {
   "cell_type": "code",
   "execution_count": null,
   "metadata": {},
   "outputs": [],
   "source": [
    "uniq_names = {}"
   ]
  },
  {
   "cell_type": "markdown",
   "metadata": {},
   "source": [
    "### Подсчет уникальных имен функций\n",
    "\n",
    "Из-за большого размера файлов оперативная память не справиться с обработкой, поэтому производится порциональный анализ функций.\n",
    "\n",
    "* batch - размер порции (1000 для ОЗУ объемом 4 Гб)"
   ]
  },
  {
   "cell_type": "code",
   "execution_count": null,
   "metadata": {},
   "outputs": [],
   "source": [
    "batch = 1000\n",
    "pos = 0\n",
    "functions, pos = load_portion_functions(FUNCTIONS_PATH, pos, 1)\n",
    "\n",
    "print('Progress:')\n",
    "while True:\n",
    "    functions, pos = load_portion_functions(FUNCTIONS_PATH, pos, batch)\n",
    "    if not functions:\n",
    "        break\n",
    "\n",
    "    # Упростить названия функций\n",
    "    for i,f in enumerate(functions):\n",
    "        functions[i][0]['value'] = functions[i][0]['value'].lower().replace('__', '')\n",
    "        \n",
    "    # Добавить имена в словарь подсчета\n",
    "    for func in functions:\n",
    "        uniq_names[func[0]['value']] = uniq_names.get(func[0]['value'], 0) + 1\n",
    "    \n",
    "    print('.', end='')"
   ]
  },
  {
   "cell_type": "code",
   "execution_count": null,
   "metadata": {},
   "outputs": [],
   "source": [
    "print('Уникальных функций:', len(uniq_names))"
   ]
  },
  {
   "cell_type": "markdown",
   "metadata": {},
   "source": [
    "### Выбор самых частотных имен функций\n",
    "\n",
    "* thresholder - задает порог вхождения функции в выборку"
   ]
  },
  {
   "cell_type": "code",
   "execution_count": null,
   "metadata": {},
   "outputs": [],
   "source": [
    "thresholder = 300\n",
    "names = []\n",
    "for name, count in uniq_names.items():\n",
    "    if count > thresholder:\n",
    "        names.append([name,count])\n",
    "names = sorted(names, key=lambda x: x[1], reverse=True)"
   ]
  },
  {
   "cell_type": "code",
   "execution_count": null,
   "metadata": {},
   "outputs": [],
   "source": [
    "print('Уникальных имен функций: ', len(names))"
   ]
  },
  {
   "cell_type": "markdown",
   "metadata": {},
   "source": [
    "### Фильтрация имен функций по значению\n",
    "\n",
    "В выборку попадают функции, которые сложно классифицировать по их сниппету, поэтому такие имена функций исключаются из выборки."
   ]
  },
  {
   "cell_type": "code",
   "execution_count": null,
   "metadata": {},
   "outputs": [],
   "source": [
    "bad_names = ['main', 'run', 'init',\n",
    "            'iter', 'enter','exit',\n",
    "            'hash', 'del',\n",
    "            'nonzero', 'func', 'foo', '_run']\n",
    "names = list(filter(lambda name: name[0] not in bad_names and len(name[0]) > 2, names))"
   ]
  },
  {
   "cell_type": "code",
   "execution_count": null,
   "metadata": {},
   "outputs": [],
   "source": [
    "print('Уникальных имен функций после чистки на неподходящие имена: ', len(names))"
   ]
  },
  {
   "cell_type": "code",
   "execution_count": null,
   "metadata": {},
   "outputs": [],
   "source": [
    "names[:5]"
   ]
  },
  {
   "cell_type": "code",
   "execution_count": null,
   "metadata": {},
   "outputs": [],
   "source": [
    "# Избавление от информации подсчета\n",
    "names = [name for name, count in names]"
   ]
  },
  {
   "cell_type": "markdown",
   "metadata": {},
   "source": [
    "### Фильтрация функций по выбранным именам\n",
    "\n",
    "Все функции из файла `functions.json` будут отфильтрованы по имени и записаны в новый файл `filtered_functions.json`."
   ]
  },
  {
   "cell_type": "code",
   "execution_count": null,
   "metadata": {},
   "outputs": [],
   "source": [
    "pos = 0\n",
    "functions, pos = load_portion_functions(FUNCTIONS_PATH, pos, 1)\n",
    "\n",
    "print('Progress:')\n",
    "while True:\n",
    "    functions, pos = load_portion_functions(FUNCTIONS_PATH, pos, batch)\n",
    "    if not functions:\n",
    "        break\n",
    "        \n",
    "    append_functions_infile(\n",
    "        FILTERED_FUNCTIONS_PATH, \n",
    "        filter_functions_name(functions, names)\n",
    "    )\n",
    "    print('.', end='')"
   ]
  }
 ],
 "metadata": {
  "kernelspec": {
   "display_name": "Python 3",
   "language": "python",
   "name": "python3"
  },
  "language_info": {
   "codemirror_mode": {
    "name": "ipython",
    "version": 3
   },
   "file_extension": ".py",
   "mimetype": "text/x-python",
   "name": "python",
   "nbconvert_exporter": "python",
   "pygments_lexer": "ipython3",
   "version": "3.8.2"
  }
 },
 "nbformat": 4,
 "nbformat_minor": 4
}
