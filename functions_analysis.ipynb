{
 "cells": [
  {
   "cell_type": "markdown",
   "metadata": {},
   "source": [
    "# Зависимости"
   ]
  },
  {
   "cell_type": "code",
   "execution_count": 33,
   "metadata": {},
   "outputs": [],
   "source": [
    "import csv\n",
    "import json\n",
    "from shortcuts import (read_portion_data, append_functions_in_json, \n",
    "                       filter_functions_name, load_functions, \n",
    "                       dataset_save_to_csv, load_functions_from_json)\n",
    "from settings import FUNCTIONS_PATH, FILTERED_FUNCTIONS_PATH, DATASET_PATH"
   ]
  },
  {
   "cell_type": "markdown",
   "metadata": {},
   "source": [
    "# Выполнение анализа имен функций"
   ]
  },
  {
   "cell_type": "markdown",
   "metadata": {},
   "source": [
    "### Подсчёт количества функций"
   ]
  },
  {
   "cell_type": "code",
   "execution_count": 84,
   "metadata": {},
   "outputs": [
    {
     "name": "stdout",
     "output_type": "stream",
     "text": [
      "Общее количество функций в датасете: 165663\n"
     ]
    }
   ],
   "source": [
    "with open(FILTERED_FUNCTIONS_PATH, 'r') as json_file:\n",
    "    fcounter = 0\n",
    "    for line in json_file:\n",
    "        fcounter+=1\n",
    "print('Общее количество функций в датасете:', fcounter)"
   ]
  },
  {
   "cell_type": "markdown",
   "metadata": {},
   "source": [
    "### Подсчет уникальных имен функций и значений узлов\n",
    "\n",
    "Из-за большого размера файлов оперативная память не справиться с обработкой, поэтому производится порциональный анализ функций.\n",
    "\n",
    "* `batch_size` - размер порции (1000 для ОЗУ объемом 4 Гб)\n",
    "\n",
    "* `uniq_names` - словарь уникальных имен функций со стчетчиком\n",
    "\n",
    "* `uniq_values` - словарь уникальных значений узлов функций"
   ]
  },
  {
   "cell_type": "code",
   "execution_count": null,
   "metadata": {
    "scrolled": true
   },
   "outputs": [],
   "source": [
    "uniq_names = {}\n",
    "uniq_values = {}\n",
    "\n",
    "batch_size = 1000\n",
    "pos = 0 # начальная позиция чтения файла\n",
    "counter = 0 # счётчик обработанных функций\n",
    "\n",
    "# Порционный перебор функций из датасета\n",
    "functions, pos = read_portion_data(FUNCTIONS_PATH, pos, 1)\n",
    "while functions:\n",
    "    functions, pos = read_portion_data(FUNCTIONS_PATH, pos, batch_size)\n",
    "    \n",
    "    counter += len(functions) \n",
    "        \n",
    "    # Добавить имена в словарь подсчета уникальных имен функций\n",
    "    for func in functions:\n",
    "        func = json.loads(func)\n",
    "        uniq_names[func[0]['value']] = uniq_names.get(func[0]['value'], 0) + 1\n",
    "        # Добавить имена в словарь подсчета уникальных значений узлов\n",
    "        for node in func:\n",
    "            if 'value' in node:\n",
    "                uniq_values[node['value']] = uniq_values.get(node['value'], 0) + 1\n",
    "            \n",
    "    print('Функций обработано: ', counter, '| Ун. имен', len(uniq_names), '| Ун. знач.:', len(uniq_values))"
   ]
  },
  {
   "cell_type": "code",
   "execution_count": 44,
   "metadata": {},
   "outputs": [
    {
     "name": "stdout",
     "output_type": "stream",
     "text": [
      "Функций обработано:  1273210 | Ун. имен 535819 | Ун. знач.: 2437048\n",
      "Функций потеряно: 1275\n"
     ]
    }
   ],
   "source": [
    "print('Функций обработано: ', counter, '| Ун. имен', len(uniq_names), '| Ун. знач.:', len(uniq_values))\n",
    "print('Функций потеряно:', fcounter-counter)"
   ]
  },
  {
   "cell_type": "markdown",
   "metadata": {},
   "source": [
    "### Выбор самых частотных имен функций\n",
    "\n",
    "* th - (thresholder) задает порог вхождения имен функциий или значений в выборку"
   ]
  },
  {
   "cell_type": "code",
   "execution_count": 60,
   "metadata": {},
   "outputs": [],
   "source": [
    "name_th = 400\n",
    "value_th = 200"
   ]
  },
  {
   "cell_type": "code",
   "execution_count": 61,
   "metadata": {},
   "outputs": [],
   "source": [
    "def cut_dict(dictionary : dict, thresholder : int) -> set:\n",
    "    data = []\n",
    "    for key, count in dictionary.items():\n",
    "        if count > thresholder:\n",
    "            data.append(key)\n",
    "    return set(data)"
   ]
  },
  {
   "cell_type": "code",
   "execution_count": 62,
   "metadata": {},
   "outputs": [],
   "source": [
    "names = cut_dict(uniq_names, name_th)\n",
    "values = cut_dict(uniq_values, value_th)"
   ]
  },
  {
   "cell_type": "code",
   "execution_count": 63,
   "metadata": {},
   "outputs": [
    {
     "name": "stdout",
     "output_type": "stream",
     "text": [
      "Уникальных имен функций:  138\n",
      "Уникальных значений узлов функций:  10273\n"
     ]
    }
   ],
   "source": [
    "print('Уникальных имен функций: ', len(names))\n",
    "print('Уникальных значений узлов функций: ', len(values))"
   ]
  },
  {
   "cell_type": "markdown",
   "metadata": {},
   "source": [
    "### Фильтрация имен функций по значению\n",
    "\n",
    "В выборку попадают функции, которые сложно классифицировать по их сниппету, поэтому такие имена функций исключаются из выборки."
   ]
  },
  {
   "cell_type": "code",
   "execution_count": 70,
   "metadata": {},
   "outputs": [],
   "source": [
    "bad_names = ['main', 'run', 'init',\n",
    "            'iter', 'enter','exit',\n",
    "            'hash', 'del', 'start',\n",
    "            'nonzero', 'func', 'foo', '_run']\n",
    "names = set(filter(lambda name: name not in bad_names and len(name) > 2, names))"
   ]
  },
  {
   "cell_type": "code",
   "execution_count": 71,
   "metadata": {},
   "outputs": [
    {
     "name": "stdout",
     "output_type": "stream",
     "text": [
      "Уникальных имен функций после чистки на неподходящие имена:  125\n"
     ]
    }
   ],
   "source": [
    "print('Уникальных имен функций после чистки на неподходящие имена: ', len(names))"
   ]
  },
  {
   "cell_type": "markdown",
   "metadata": {},
   "source": [
    "### Фильтрация уникальных значений\n",
    "\n",
    "Избавление от значений не несущих много информации"
   ]
  },
  {
   "cell_type": "code",
   "execution_count": 96,
   "metadata": {},
   "outputs": [],
   "source": [
    "values = set(filter(lambda value: len(value) > 1, values))"
   ]
  },
  {
   "cell_type": "code",
   "execution_count": 98,
   "metadata": {},
   "outputs": [
    {
     "name": "stdout",
     "output_type": "stream",
     "text": [
      "Уникальных значений после чистки на неподходящие значения:  10200\n"
     ]
    }
   ],
   "source": [
    "print('Уникальных значений после чистки на неподходящие значения: ', len(values))"
   ]
  },
  {
   "cell_type": "markdown",
   "metadata": {},
   "source": [
    "## Фильтрация функций по выбранным именам и трансформация узлов\n",
    "\n",
    "Все функции из файла `functions.json` будут отфильтрованы по имени и записаны в новый файл `filtered_functions.json`."
   ]
  },
  {
   "cell_type": "markdown",
   "metadata": {},
   "source": [
    "### Фильтрация по имени"
   ]
  },
  {
   "cell_type": "code",
   "execution_count": 83,
   "metadata": {},
   "outputs": [],
   "source": [
    "pos = 0\n",
    "ffcounter = 0\n",
    "\n",
    "functions, pos = read_portion_data(FUNCTIONS_PATH, pos, 1)\n",
    "while functions:\n",
    "    functions, pos = read_portion_data(FUNCTIONS_PATH, pos, batch_size)\n",
    "    \n",
    "    for i,function in enumerate(functions):\n",
    "        functions[i] = json.loads(functions[i])\n",
    "\n",
    "    filterd_functions = filter_functions_name(functions, names)\n",
    "    ffcounter += len(filterd_functions)\n",
    "    \n",
    "    append_functions_in_json(\n",
    "        FILTERED_FUNCTIONS_PATH, \n",
    "        filterd_functions\n",
    "    )"
   ]
  },
  {
   "cell_type": "code",
   "execution_count": 99,
   "metadata": {},
   "outputs": [
    {
     "name": "stdout",
     "output_type": "stream",
     "text": [
      "Общее количество функций после фильтрации: 165663\n"
     ]
    }
   ],
   "source": [
    "print('Количество функций после фильтрации:', fcounter)"
   ]
  },
  {
   "cell_type": "markdown",
   "metadata": {},
   "source": [
    "### Трансформация узлов"
   ]
  },
  {
   "cell_type": "code",
   "execution_count": 88,
   "metadata": {},
   "outputs": [],
   "source": [
    "functions = load_functions_from_json(FILTERED_FUNCTIONS_PATH)"
   ]
  },
  {
   "cell_type": "markdown",
   "metadata": {},
   "source": [
    "#### Извлечение названия функции из функции\n",
    "\n",
    "Удаление из обучающей выборки названия функции и сохранение в отдельном массиве для дальнейшей валидации."
   ]
  },
  {
   "cell_type": "code",
   "execution_count": null,
   "metadata": {},
   "outputs": [],
   "source": [
    "for func in functions:\n",
    "    assert func[0]['type'] == 'FunctionDef'"
   ]
  },
  {
   "cell_type": "code",
   "execution_count": 104,
   "metadata": {},
   "outputs": [],
   "source": [
    "labels = []\n",
    "for i, func in enumerate(functions):\n",
    "    labels.append(functions[i][0]['value'])\n",
    "    del functions[i][0]"
   ]
  },
  {
   "cell_type": "markdown",
   "metadata": {},
   "source": [
    "#### Трансформация"
   ]
  },
  {
   "cell_type": "code",
   "execution_count": 106,
   "metadata": {},
   "outputs": [],
   "source": [
    "for i,function in enumerate(functions):\n",
    "    for j,node in enumerate(function):\n",
    "        try:\n",
    "            functions[i][j] = node['value'] if node['value'] in values else node['type']\n",
    "        except KeyError:\n",
    "            functions[i][j] = node['type']"
   ]
  },
  {
   "cell_type": "code",
   "execution_count": 107,
   "metadata": {},
   "outputs": [
    {
     "name": "stdout",
     "output_type": "stream",
     "text": [
      "Количество функций после трансформации: 165663\n"
     ]
    }
   ],
   "source": [
    "print('Количество функций после трансформации:', len(functions))"
   ]
  },
  {
   "cell_type": "code",
   "execution_count": 111,
   "metadata": {},
   "outputs": [],
   "source": [
    "assert len(labels) == len(functions)"
   ]
  },
  {
   "cell_type": "code",
   "execution_count": 109,
   "metadata": {},
   "outputs": [
    {
     "name": "stdout",
     "output_type": "stream",
     "text": [
      "delete ['arguments', 'args', 'self', 'name', 'defaults', 'body', 'Expr', 'Str', 'Return', 'Call', 'AttributeLoad', 'self', 'attr', 'name']\n"
     ]
    }
   ],
   "source": [
    "print(labels[101], functions[101])"
   ]
  },
  {
   "cell_type": "code",
   "execution_count": 110,
   "metadata": {},
   "outputs": [
    {
     "name": "stdout",
     "output_type": "stream",
     "text": [
      "Средняя длина вектора АСД: 49.947574292388765\n"
     ]
    }
   ],
   "source": [
    "ave = sum(len(func) for func in functions) / len(functions)\n",
    "print('Средняя длина вектора АСД: ' + str(ave))"
   ]
  },
  {
   "cell_type": "markdown",
   "metadata": {},
   "source": [
    "# Сохранение финального датасета"
   ]
  },
  {
   "cell_type": "markdown",
   "metadata": {},
   "source": [
    "Соединение функции с ее меткой (названием)"
   ]
  },
  {
   "cell_type": "code",
   "execution_count": 112,
   "metadata": {},
   "outputs": [],
   "source": [
    "functions_dataset = [(label, func) for (label, func) in zip(labels, functions)]"
   ]
  },
  {
   "cell_type": "markdown",
   "metadata": {},
   "source": [
    "Сохранение финального датасета для обучения в `.csv` файл"
   ]
  },
  {
   "cell_type": "code",
   "execution_count": 117,
   "metadata": {},
   "outputs": [],
   "source": [
    "dataset_save_to_csv(DATASET_PATH, functions_dataset)"
   ]
  }
 ],
 "metadata": {
  "kernelspec": {
   "display_name": "Python 3",
   "language": "python",
   "name": "python3"
  },
  "language_info": {
   "codemirror_mode": {
    "name": "ipython",
    "version": 3
   },
   "file_extension": ".py",
   "mimetype": "text/x-python",
   "name": "python",
   "nbconvert_exporter": "python",
   "pygments_lexer": "ipython3",
   "version": "3.8.2"
  }
 },
 "nbformat": 4,
 "nbformat_minor": 4
}
