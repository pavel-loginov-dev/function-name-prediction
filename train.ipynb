{
  "nbformat": 4,
  "nbformat_minor": 0,
  "metadata": {
    "colab": {
      "name": "train.ipynb",
      "provenance": [],
      "collapsed_sections": [],
      "toc_visible": true
    },
    "kernelspec": {
      "name": "python3",
      "display_name": "Python 3"
    },
    "accelerator": "GPU"
  },
  "cells": [
    {
      "cell_type": "markdown",
      "metadata": {
        "id": "dY6jYf_eHOfn",
        "colab_type": "text"
      },
      "source": [
        "# Зависимости"
      ]
    },
    {
      "cell_type": "code",
      "metadata": {
        "id": "CBgC1PyE8csY",
        "colab_type": "code",
        "colab": {}
      },
      "source": [
        "%tensorflow_version 2.x\n",
        "from tensorflow.keras.models import Sequential, load_model\n",
        "from tensorflow.keras.layers import (Embedding, Conv1D, MaxPooling1D,\n",
        "                                     GlobalAveragePooling1D, Dropout,\n",
        "                                     Dense, LSTM)\n",
        "\n",
        "from tensorflow.keras import utils\n",
        "import matplotlib.pyplot as plt\n",
        "%matplotlib inline\n",
        "from google.colab import files\n",
        "\n",
        "from mycsv import split_file\n",
        "from dataset import load_dataset\n",
        "from transform import Converter"
      ],
      "execution_count": null,
      "outputs": []
    },
    {
      "cell_type": "markdown",
      "metadata": {
        "id": "5wwKBhDKHT83",
        "colab_type": "text"
      },
      "source": [
        "# Загрузка и конвертация данных"
      ]
    },
    {
      "cell_type": "markdown",
      "metadata": {
        "id": "8N5GAtqgiWAU",
        "colab_type": "text"
      },
      "source": [
        "Разделение датасета на тренировочную выборку и тестовую."
      ]
    },
    {
      "cell_type": "code",
      "metadata": {
        "id": "tM2YBsQFAJ2n",
        "colab_type": "code",
        "colab": {}
      },
      "source": [
        "split_file('dataset.csv', split_ratio=0.8)"
      ],
      "execution_count": null,
      "outputs": []
    },
    {
      "cell_type": "markdown",
      "metadata": {
        "id": "z9f-EIvZimMX",
        "colab_type": "text"
      },
      "source": [
        "После разделения датасета в дериктории появиться два файла (тренировочный сет и тестовый).\n",
        "\n",
        "* `maxlen` задает максимальную длину последовательности узлов функции (средняя длина последовательности ~50)\n",
        "\n",
        "* `verbose` задает многословность функций обработчиков (то столько будет выводится информации во время обратоки); доступные значения от 0 до 3"
      ]
    },
    {
      "cell_type": "code",
      "metadata": {
        "id": "wO0vDL8OAuui",
        "colab_type": "code",
        "colab": {}
      },
      "source": [
        "train_file_name = 'train_dataset.csv'\n",
        "test_file_name = 'test_dataset.csv'\n",
        "maxlen = 200\n",
        "verbose = 3"
      ],
      "execution_count": null,
      "outputs": []
    },
    {
      "cell_type": "markdown",
      "metadata": {
        "id": "TmNGOuXyj-IS",
        "colab_type": "text"
      },
      "source": [
        "Загрузка и трансформация данных для обучения."
      ]
    },
    {
      "cell_type": "code",
      "metadata": {
        "id": "phk3JPFmRmUT",
        "colab_type": "code",
        "colab": {
          "base_uri": "https://localhost:8080/",
          "height": 1000
        },
        "outputId": "f54c91b0-a142-4f40-d33b-37280d31b372"
      },
      "source": [
        "dataset = load_dataset(train_file_name, test_file_name, maxlen, verbose)\n",
        "x_train, y_train, x_test, y_test, data_converter, marks_converter = dataset"
      ],
      "execution_count": null,
      "outputs": [
        {
          "output_type": "stream",
          "text": [
            "load_data: Примеров в обучающей выбоке: 132588\n",
            "load_data: Примеров в тестовой выбоке: 33075\n",
            "\n",
            "load_data: Пример данных обучающей выборки:\n",
            "arguments,args,self,timeout,defaults,none,body,TryExcept,body,Return,Call,AttributeLoad,AttributeLoad,self,attr,get,timeout,timeout,handlers,ExceptHandler,type,AttributeLoad,AttributeLoad,gevent,queue,empty,body,Raise,Call,NameLoad,timeout\n",
            "\n",
            "load_data: Пример метки обучающей выборки:\n",
            "call\n",
            "\n",
            "load_data: Пример данных тестовой выборки:\n",
            "arguments,args,self,defaults,body,If,Call,hasattr,self,Str,body,Assign,SubscriptStore,AttributeLoad,os,environ,Index,editor,AttributeLoad,self,attr,orelse,Delete,SubscriptDel,AttributeLoad,os,environ,Index,editor,Assign,AttributeStore,self,plugin,none,Assign,AttributeStore,self,env,none,Expr,Call,AttributeLoad,AttributeLoad,registration,attr,clear,Expr,Call,AttributeLoad,AttributeLoad,registration,attr,clear,Expr,Call,AttributeLoad,Call,super,NameLoad,self,teardown\n",
            "\n",
            "load_data: Пример метки обучающей выборки:\n",
            "teardown\n",
            "\n",
            "load_data: Обучающая выборка впорядке:  True\n",
            "load_data: Тестовая выборка впорядке:  True\n",
            "\n",
            "[build_converters] Уникальных токенов: 9875\n",
            "[build_converters] Уникальных классов: 126\n",
            "\n",
            "[data_to_digit] Пример данных:\n",
            "[5034, 1891, 7718, 5044, 9534, 4218, 3534, 6656, 6459, 9534, 6656, 9504, 311, 7396, 5045, 9534, 9534, 6656, 2640, 311, 7396, 7718, 5561, 5044, 3017, 2640, 311, 7396, 7718, 5561, 5044]\n",
            "\n",
            "[data_to_digit] Пример данных:\n",
            "31\n",
            "\n",
            "[data_to_digit] Пример данных:\n",
            "[5034, 1891, 7718, 4218, 6656, 2640, 311, 7396, 311, 2208, 3006, 7718, 4239, 2683, 8026, 7718, 3392, 311, 3006, 2683, 8026, 7718, 6107, 311, 7396, 8188, 2612]\n",
            "\n",
            "[data_to_digit] Пример данных:\n",
            "37\n",
            "\n",
            "[to_same_length] Пример данных:\n",
            "[   0    0    0    0    0    0    0    0    0    0    0    0    0    0\n",
            "    0    0    0    0    0    0    0    0    0    0    0    0    0    0\n",
            "    0    0    0    0    0    0    0    0    0    0    0    0    0    0\n",
            "    0    0    0    0    0    0    0    0    0    0    0    0    0    0\n",
            "    0    0    0    0    0    0    0    0    0    0    0    0    0    0\n",
            "    0    0    0    0    0    0    0    0    0    0    0    0    0    0\n",
            "    0    0    0    0    0    0    0    0    0    0    0    0    0    0\n",
            "    0    0    0    0    0    0    0    0    0    0    0    0    0    0\n",
            "    0    0    0    0    0    0    0    0    0    0    0    0    0    0\n",
            "    0    0    0    0    0    0    0    0    0    0    0    0    0    0\n",
            "    0    0    0    0    0    0    0    0    0    0    0    0    0    0\n",
            "    0    0    0    0    0    0    0    0    0    0    0    0    0    0\n",
            "    0 5034 1891 7718 5044 9534 4218 3534 6656 6459 9534 6656 9504  311\n",
            " 7396 5045 9534 9534 6656 2640  311 7396 7718 5561 5044 3017 2640  311\n",
            " 7396 7718 5561 5044]\n",
            "\n",
            "[to_same_length] Пример данных:\n",
            "[   0    0    0    0    0    0    0    0    0    0    0    0    0    0\n",
            "    0    0    0    0    0    0    0    0    0    0    0    0    0    0\n",
            "    0    0    0    0    0    0    0    0    0    0    0    0    0    0\n",
            "    0    0    0    0    0    0    0    0    0    0    0    0    0    0\n",
            "    0    0    0    0    0    0    0    0    0    0    0    0    0    0\n",
            "    0    0    0    0    0    0    0    0    0    0    0    0    0    0\n",
            "    0    0    0    0    0    0    0    0    0    0    0    0    0    0\n",
            "    0    0    0    0    0    0    0    0    0    0    0    0    0    0\n",
            "    0    0    0    0    0    0    0    0    0    0    0    0    0    0\n",
            "    0    0    0    0    0    0    0    0    0    0    0    0    0    0\n",
            "    0    0    0    0    0    0    0    0    0    0    0    0    0    0\n",
            "    0    0    0    0    0    0    0    0    0    0    0    0    0    0\n",
            "    0    0    0    0    0 5034 1891 7718 4218 6656 2640  311 7396  311\n",
            " 2208 3006 7718 4239 2683 8026 7718 3392  311 3006 2683 8026 7718 6107\n",
            "  311 7396 8188 2612]\n",
            "\n",
            "[vectorize_sequences] Пример метки выборки в OHE:\n",
            "[0. 0. 0. 0. 0. 0. 0. 0. 0. 0. 0. 0. 0. 0. 0. 0. 0. 0. 0. 0. 0. 0. 0. 0.\n",
            " 0. 0. 0. 0. 0. 0. 0. 1. 0. 0. 0. 0. 0. 0. 0. 0. 0. 0. 0. 0. 0. 0. 0. 0.\n",
            " 0. 0. 0. 0. 0. 0. 0. 0. 0. 0. 0. 0. 0. 0. 0. 0. 0. 0. 0. 0. 0. 0. 0. 0.\n",
            " 0. 0. 0. 0. 0. 0. 0. 0. 0. 0. 0. 0. 0. 0. 0. 0. 0. 0. 0. 0. 0. 0. 0. 0.\n",
            " 0. 0. 0. 0. 0. 0. 0. 0. 0. 0. 0. 0. 0. 0. 0. 0. 0. 0. 0. 0. 0. 0. 0. 0.\n",
            " 0. 0. 0. 0. 0. 0.]\n",
            "\n",
            "[vectorize_sequences] Пример метки выборки в OHE:\n",
            "[0. 0. 0. 0. 0. 0. 0. 0. 0. 0. 0. 0. 0. 0. 0. 0. 0. 0. 0. 0. 0. 0. 0. 0.\n",
            " 0. 0. 0. 0. 0. 0. 0. 0. 0. 0. 0. 0. 0. 1. 0. 0. 0. 0. 0. 0. 0. 0. 0. 0.\n",
            " 0. 0. 0. 0. 0. 0. 0. 0. 0. 0. 0. 0. 0. 0. 0. 0. 0. 0. 0. 0. 0. 0. 0. 0.\n",
            " 0. 0. 0. 0. 0. 0. 0. 0. 0. 0. 0. 0. 0. 0. 0. 0. 0. 0. 0. 0. 0. 0. 0. 0.\n",
            " 0. 0. 0. 0. 0. 0. 0. 0. 0. 0. 0. 0. 0. 0. 0. 0. 0. 0. 0. 0. 0. 0. 0. 0.\n",
            " 0. 0. 0. 0. 0. 0.]\n",
            "\n"
          ],
          "name": "stdout"
        }
      ]
    },
    {
      "cell_type": "markdown",
      "metadata": {
        "id": "LTiewekE7CBo",
        "colab_type": "text"
      },
      "source": [
        "Сериализация словарей конвертеров."
      ]
    },
    {
      "cell_type": "code",
      "metadata": {
        "id": "ZNfGZ5gyrDae",
        "colab_type": "code",
        "colab": {}
      },
      "source": [
        "data_converter.to_file()\n",
        "marks_converter.to_file()"
      ],
      "execution_count": null,
      "outputs": []
    },
    {
      "cell_type": "markdown",
      "metadata": {
        "id": "UkZdPFvSHdMQ",
        "colab_type": "text"
      },
      "source": [
        "# Выбор модели нейронной сети"
      ]
    },
    {
      "cell_type": "code",
      "metadata": {
        "id": "dDlNtl1LHhpm",
        "colab_type": "code",
        "colab": {}
      },
      "source": [
        "# CNN-Model\n",
        "model_name = 'fnp_cnn'\n",
        "model = Sequential()\n",
        "model.add(Embedding(len(data_converter), 32, input_length=maxlen))\n",
        "model.add(Conv1D(100, 10, activation='relu', padding='same'))\n",
        "model.add(Conv1D(100, 10, activation='relu', padding='same'))\n",
        "model.add(MaxPooling1D(3))\n",
        "model.add(Conv1D(160, 10, activation='relu', padding='same'))\n",
        "model.add(Conv1D(160, 10, activation='relu', padding='same'))\n",
        "model.add(GlobalAveragePooling1D())\n",
        "model.add(Dropout(0.5))\n",
        "model.add(Dense(len(marks_converter), activation='softmax'))"
      ],
      "execution_count": null,
      "outputs": []
    },
    {
      "cell_type": "code",
      "metadata": {
        "id": "MRNDmofNHmf5",
        "colab_type": "code",
        "colab": {}
      },
      "source": [
        "# LSTM-Model\n",
        "model_name = 'fnp_lstm'\n",
        "model = Sequential()\n",
        "model.add(Embedding(len(data_converter), 32, input_length=maxlen))\n",
        "model.add(LSTM(128, return_sequences=True, dropout=0.2))\n",
        "model.add(LSTM(128, dropout=0.2))\n",
        "model.add(Dense(len(marks_converter), activation='softmax'))"
      ],
      "execution_count": null,
      "outputs": []
    },
    {
      "cell_type": "code",
      "metadata": {
        "id": "Cj4QR88QH0Cq",
        "colab_type": "code",
        "colab": {
          "base_uri": "https://localhost:8080/",
          "height": 318
        },
        "outputId": "b1185296-7c43-4f42-e861-d3b30bb4e851"
      },
      "source": [
        "print('Название модели:', model_name)\n",
        "model.summary()"
      ],
      "execution_count": null,
      "outputs": [
        {
          "output_type": "stream",
          "text": [
            "Название модели: fnp_lstm\n",
            "Model: \"sequential\"\n",
            "_________________________________________________________________\n",
            "Layer (type)                 Output Shape              Param #   \n",
            "=================================================================\n",
            "embedding (Embedding)        (None, 200, 32)           316000    \n",
            "_________________________________________________________________\n",
            "lstm (LSTM)                  (None, 200, 128)          82432     \n",
            "_________________________________________________________________\n",
            "lstm_1 (LSTM)                (None, 128)               131584    \n",
            "_________________________________________________________________\n",
            "dense (Dense)                (None, 126)               16254     \n",
            "=================================================================\n",
            "Total params: 546,270\n",
            "Trainable params: 546,270\n",
            "Non-trainable params: 0\n",
            "_________________________________________________________________\n"
          ],
          "name": "stdout"
        }
      ]
    },
    {
      "cell_type": "markdown",
      "metadata": {
        "id": "x5ao6dMoHvKg",
        "colab_type": "text"
      },
      "source": [
        "# Обучение нейронной сети"
      ]
    },
    {
      "cell_type": "code",
      "metadata": {
        "id": "mwPLNWfzHw4y",
        "colab_type": "code",
        "colab": {}
      },
      "source": [
        "model.compile(\n",
        "    optimizer='adam',\n",
        "    loss='categorical_crossentropy',\n",
        "    metrics=['accuracy']\n",
        ")\n",
        "graph_history = {'accuracy': [], 'val_accuracy': []}"
      ],
      "execution_count": null,
      "outputs": []
    },
    {
      "cell_type": "code",
      "metadata": {
        "id": "G63YIbRAH4Kt",
        "colab_type": "code",
        "colab": {
          "base_uri": "https://localhost:8080/",
          "height": 925
        },
        "outputId": "dfc483d0-5b00-4522-8d7b-08849daecd64"
      },
      "source": [
        "history = model.fit( x_train, y_train,\n",
        "                            validation_data = (x_test, y_test),\n",
        "                            epochs=25,\n",
        "                            batch_size=100,\n",
        "                            shuffle=True,\n",
        "                            verbose=1)\n",
        "graph_history['accuracy'].extend(history.history['accuracy'])\n",
        "graph_history['val_accuracy'].extend(history.history['val_accuracy'])"
      ],
      "execution_count": null,
      "outputs": [
        {
          "output_type": "stream",
          "text": [
            "Epoch 1/25\n",
            "1326/1326 [==============================] - 53s 40ms/step - loss: 3.3340 - accuracy: 0.2568 - val_loss: 2.7348 - val_accuracy: 0.3558\n",
            "Epoch 2/25\n",
            "1326/1326 [==============================] - 52s 39ms/step - loss: 2.4273 - accuracy: 0.4095 - val_loss: 2.2109 - val_accuracy: 0.4579\n",
            "Epoch 3/25\n",
            "1326/1326 [==============================] - 52s 39ms/step - loss: 2.0252 - accuracy: 0.4932 - val_loss: 1.9166 - val_accuracy: 0.5212\n",
            "Epoch 4/25\n",
            "1326/1326 [==============================] - 52s 39ms/step - loss: 1.7829 - accuracy: 0.5457 - val_loss: 1.7417 - val_accuracy: 0.5632\n",
            "Epoch 5/25\n",
            "1326/1326 [==============================] - 52s 39ms/step - loss: 1.5925 - accuracy: 0.5901 - val_loss: 1.6144 - val_accuracy: 0.5952\n",
            "Epoch 6/25\n",
            "1326/1326 [==============================] - 52s 39ms/step - loss: 1.4401 - accuracy: 0.6264 - val_loss: 1.5062 - val_accuracy: 0.6193\n",
            "Epoch 7/25\n",
            "1326/1326 [==============================] - 52s 39ms/step - loss: 1.3260 - accuracy: 0.6531 - val_loss: 1.4453 - val_accuracy: 0.6357\n",
            "Epoch 8/25\n",
            "1326/1326 [==============================] - 52s 39ms/step - loss: 1.2352 - accuracy: 0.6743 - val_loss: 1.4019 - val_accuracy: 0.6486\n",
            "Epoch 9/25\n",
            "1326/1326 [==============================] - 52s 39ms/step - loss: 1.1604 - accuracy: 0.6917 - val_loss: 1.3573 - val_accuracy: 0.6600\n",
            "Epoch 10/25\n",
            "1326/1326 [==============================] - 52s 39ms/step - loss: 1.0992 - accuracy: 0.7074 - val_loss: 1.3434 - val_accuracy: 0.6658\n",
            "Epoch 11/25\n",
            "1326/1326 [==============================] - 52s 39ms/step - loss: 1.0483 - accuracy: 0.7194 - val_loss: 1.3245 - val_accuracy: 0.6707\n",
            "Epoch 12/25\n",
            "1326/1326 [==============================] - 52s 39ms/step - loss: 1.0034 - accuracy: 0.7292 - val_loss: 1.3103 - val_accuracy: 0.6783\n",
            "Epoch 13/25\n",
            "1326/1326 [==============================] - 51s 39ms/step - loss: 0.9634 - accuracy: 0.7378 - val_loss: 1.3043 - val_accuracy: 0.6805\n",
            "Epoch 14/25\n",
            "1326/1326 [==============================] - 52s 39ms/step - loss: 0.9291 - accuracy: 0.7464 - val_loss: 1.2887 - val_accuracy: 0.6871\n",
            "Epoch 15/25\n",
            "1326/1326 [==============================] - 52s 39ms/step - loss: 0.8987 - accuracy: 0.7541 - val_loss: 1.2984 - val_accuracy: 0.6844\n",
            "Epoch 16/25\n",
            "1326/1326 [==============================] - 52s 39ms/step - loss: 0.8716 - accuracy: 0.7594 - val_loss: 1.2872 - val_accuracy: 0.6881\n",
            "Epoch 17/25\n",
            "1326/1326 [==============================] - 52s 39ms/step - loss: 0.8472 - accuracy: 0.7655 - val_loss: 1.2932 - val_accuracy: 0.6917\n",
            "Epoch 18/25\n",
            "1326/1326 [==============================] - 52s 39ms/step - loss: 0.8232 - accuracy: 0.7721 - val_loss: 1.3014 - val_accuracy: 0.6912\n",
            "Epoch 19/25\n",
            "1326/1326 [==============================] - 51s 39ms/step - loss: 0.8002 - accuracy: 0.7766 - val_loss: 1.2979 - val_accuracy: 0.6949\n",
            "Epoch 20/25\n",
            "1326/1326 [==============================] - 52s 39ms/step - loss: 0.7812 - accuracy: 0.7816 - val_loss: 1.3071 - val_accuracy: 0.6922\n",
            "Epoch 21/25\n",
            "1326/1326 [==============================] - 51s 39ms/step - loss: 0.7628 - accuracy: 0.7845 - val_loss: 1.3008 - val_accuracy: 0.6953\n",
            "Epoch 22/25\n",
            "1326/1326 [==============================] - 52s 39ms/step - loss: 0.7437 - accuracy: 0.7891 - val_loss: 1.3089 - val_accuracy: 0.6974\n",
            "Epoch 23/25\n",
            "1326/1326 [==============================] - 52s 39ms/step - loss: 0.7336 - accuracy: 0.7918 - val_loss: 1.3138 - val_accuracy: 0.6980\n",
            "Epoch 24/25\n",
            "1326/1326 [==============================] - 52s 39ms/step - loss: 0.7165 - accuracy: 0.7957 - val_loss: 1.3182 - val_accuracy: 0.6999\n",
            "Epoch 25/25\n",
            "1326/1326 [==============================] - 52s 39ms/step - loss: 0.7021 - accuracy: 0.7990 - val_loss: 1.3214 - val_accuracy: 0.7013\n"
          ],
          "name": "stdout"
        }
      ]
    },
    {
      "cell_type": "markdown",
      "metadata": {
        "id": "QuxYXMOlIT7l",
        "colab_type": "text"
      },
      "source": [
        "# Проверка качества обучения"
      ]
    },
    {
      "cell_type": "code",
      "metadata": {
        "id": "fUdV8FxEITMQ",
        "colab_type": "code",
        "colab": {
          "base_uri": "https://localhost:8080/",
          "height": 278
        },
        "outputId": "711778d5-f257-42cf-b43e-ec9bd065ae5e"
      },
      "source": [
        "plt.plot(graph_history['accuracy'],\n",
        "         label='Доля верных ответов на обучающем наборе')\n",
        "plt.plot(graph_history['val_accuracy'],\n",
        "         label='Доля верных ответов на проверочном наборе')\n",
        "plt.xlabel('Эпоха обучения')\n",
        "plt.ylabel('Доля верных ответов')\n",
        "plt.legend()\n",
        "plt.show()"
      ],
      "execution_count": null,
      "outputs": [
        {
          "output_type": "display_data",
          "data": {
            "image/png": "[encoded data removed]",
            "text/plain": [
              "<Figure size 432x288 with 1 Axes>"
            ]
          },
          "metadata": {
            "tags": [],
            "needs_background": "light"
          }
        }
      ]
    },
    {
      "cell_type": "code",
      "metadata": {
        "id": "EHY_t59UIXtL",
        "colab_type": "code",
        "colab": {
          "base_uri": "https://localhost:8080/",
          "height": 72
        },
        "outputId": "fdcddb82-57e5-43da-a235-73ec80ff79a5"
      },
      "source": [
        "scores = model.evaluate(x_test, y_test, verbose=1)\n",
        "print('Доля верных ответов на тестовых данных составляет:',round(scores[1]* 100, 4),'%')"
      ],
      "execution_count": null,
      "outputs": [
        {
          "output_type": "stream",
          "text": [
            "1034/1034 [==============================] - 10s 10ms/step - loss: 1.3214 - accuracy: 0.7013\n",
            "Доля верных ответов на тестовых данных составляет: 70.1255 %\n"
          ],
          "name": "stdout"
        }
      ]
    },
    {
      "cell_type": "markdown",
      "metadata": {
        "id": "pHpAGk3EIiCs",
        "colab_type": "text"
      },
      "source": [
        "# Сохранить/загрузить модель нейронной сети"
      ]
    },
    {
      "cell_type": "markdown",
      "metadata": {
        "id": "oClxdIISkgFE",
        "colab_type": "text"
      },
      "source": [
        "Сохранение нейронной сети на Google Drive."
      ]
    },
    {
      "cell_type": "code",
      "metadata": {
        "id": "PXeFIavQIloJ",
        "colab_type": "code",
        "colab": {}
      },
      "source": [
        "from google.colab import drive\n",
        "drive.mount('/content/gdrive')"
      ],
      "execution_count": null,
      "outputs": []
    },
    {
      "cell_type": "code",
      "metadata": {
        "id": "jV2k__rXcTkd",
        "colab_type": "code",
        "colab": {}
      },
      "source": [
        "model.save('gdrive/My Drive/models/function_name_prediction/{name}/maxlen{len}_e{epochs}_p{precent}.h5'.format(\n",
        "    name=model_name,\n",
        "    len=maxlen,\n",
        "    epochs=len(graph_history['accuracy']),\n",
        "    precent=int(graph_history['val_accuracy'][-1]*1000)\n",
        "))"
      ],
      "execution_count": null,
      "outputs": []
    },
    {
      "cell_type": "markdown",
      "metadata": {
        "id": "ZYO--umAkk4D",
        "colab_type": "text"
      },
      "source": [
        "Сохранение нейронной сети в дирикторию."
      ]
    },
    {
      "cell_type": "code",
      "metadata": {
        "id": "QRBqAJeShjew",
        "colab_type": "code",
        "colab": {}
      },
      "source": [
        "model.save('{name}_maxlen{len}_e{epochs}_p{precent}.h5'.format(\n",
        "    name=model_name,\n",
        "    len=maxlen,\n",
        "    epochs=len(graph_history['accuracy']),\n",
        "    precent=int(graph_history['val_accuracy'][-1]*1000)\n",
        "))"
      ],
      "execution_count": null,
      "outputs": []
    },
    {
      "cell_type": "markdown",
      "metadata": {
        "id": "s9G3hWFAktTq",
        "colab_type": "text"
      },
      "source": [
        "Загрузка модели нейронной сети из файла."
      ]
    },
    {
      "cell_type": "code",
      "metadata": {
        "id": "LNJAf8uShumg",
        "colab_type": "code",
        "colab": {}
      },
      "source": [
        "MODEL_PATH = ''\n",
        "model = load_model(MODEL_PATH)"
      ],
      "execution_count": null,
      "outputs": []
    }
  ]
}