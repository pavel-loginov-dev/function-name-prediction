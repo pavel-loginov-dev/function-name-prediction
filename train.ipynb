{
  "nbformat": 4,
  "nbformat_minor": 0,
  "metadata": {
    "colab": {
      "name": "train.ipynb",
      "provenance": [],
      "collapsed_sections": []
    },
    "kernelspec": {
      "name": "python3",
      "display_name": "Python 3"
    },
    "accelerator": "GPU"
  },
  "cells": [
    {
      "cell_type": "markdown",
      "metadata": {
        "id": "dY6jYf_eHOfn",
        "colab_type": "text"
      },
      "source": [
        "# Зависимости"
      ]
    },
    {
      "cell_type": "code",
      "metadata": {
        "id": "CBgC1PyE8csY",
        "colab_type": "code",
        "colab": {}
      },
      "source": [
        "%tensorflow_version 2.x\n",
        "from tensorflow.keras.models import Sequential, load_model\n",
        "from tensorflow.keras.layers import *\n",
        "from tensorflow.keras import utils\n",
        "from tensorflow.keras.preprocessing.sequence import pad_sequences\n",
        "import numpy as np\n",
        "import matplotlib.pyplot as plt\n",
        "from google.colab import files\n",
        "%matplotlib inline\n",
        "\n",
        "from mycsv import split_file\n",
        "from dataset import load_data\n",
        "from transform import Converter, to_same_length, vectorize_sequences"
      ],
      "execution_count": 2,
      "outputs": []
    },
    {
      "cell_type": "markdown",
      "metadata": {
        "id": "5wwKBhDKHT83",
        "colab_type": "text"
      },
      "source": [
        "# Загрузка и конвертация данных"
      ]
    },
    {
      "cell_type": "markdown",
      "metadata": {
        "id": "8N5GAtqgiWAU",
        "colab_type": "text"
      },
      "source": [
        "Разделение датасета на тренировочную выборку и тестовую"
      ]
    },
    {
      "cell_type": "code",
      "metadata": {
        "id": "tM2YBsQFAJ2n",
        "colab_type": "code",
        "colab": {}
      },
      "source": [
        "split_file('dataset.csv', split_ratio=0.8)"
      ],
      "execution_count": 3,
      "outputs": []
    },
    {
      "cell_type": "markdown",
      "metadata": {
        "id": "z9f-EIvZimMX",
        "colab_type": "text"
      },
      "source": [
        "После разделения датасета в дериктории появиться два файла (тренировочный сет и тестовый).\n",
        "\n",
        "* `maxlen` задает максимальную длину последовательности узлов функции (средняя длина последовательности ~50)\n",
        "\n",
        "* `v` (verbose) задает многословность функций обработчиков (то столько будет выводится информации во время обратоки); доступные значения от 0 до 3"
      ]
    },
    {
      "cell_type": "code",
      "metadata": {
        "id": "wO0vDL8OAuui",
        "colab_type": "code",
        "colab": {}
      },
      "source": [
        "# Названия файлов\n",
        "train_file_name = 'train_dataset.csv'\n",
        "test_file_name = 'test_dataset.csv'\n",
        "# Максимальная длина последовательности\n",
        "maxlen = 200\n",
        "# Вывод информации о данных\n",
        "v = 3"
      ],
      "execution_count": 37,
      "outputs": []
    },
    {
      "cell_type": "markdown",
      "metadata": {
        "id": "TmNGOuXyj-IS",
        "colab_type": "text"
      },
      "source": [
        "Загрузка и трансформация данных для обучения"
      ]
    },
    {
      "cell_type": "code",
      "metadata": {
        "id": "6_SL1aRcAvrW",
        "colab_type": "code",
        "colab": {
          "base_uri": "https://localhost:8080/",
          "height": 1000
        },
        "outputId": "e89ff22a-4a2a-45b5-8f34-eae1c9d9b8bf"
      },
      "source": [
        "# Загрузка данных\n",
        "x_train, y_train, x_test, y_test = load_data(\n",
        "    train_file_name, \n",
        "    test_file_name, \n",
        "    verbose=v*3)\n",
        "# Инициализация конвертеров\n",
        "data_converter, marks_converter = Converter.build_converters(\n",
        "    x_train, x_test, \n",
        "    y_train, y_test, verbose=v)\n",
        "# Конвертация токенов в цифровой формат\n",
        "x_train = data_converter.data_to_digital(x_train, verbose=v)\n",
        "y_train = marks_converter.data_to_digital(y_train, verbose=v)\n",
        "x_test = data_converter.data_to_digital(x_test, verbose=v)\n",
        "y_test = marks_converter.data_to_digital(y_test, verbose=v)\n",
        "# Приведение примеров к одной длине\n",
        "x_train = to_same_length(x_train, maxlen, reverse=False, verbose=v)\n",
        "x_test = to_same_length(x_test, maxlen, reverse=False, verbose=v)\n",
        "# Кодирование классов в One Hot Encoded\n",
        "y_train = vectorize_sequences(y_train, len(marks_converter), verbose=v)\n",
        "y_test = vectorize_sequences(y_test, len(marks_converter), verbose=v)"
      ],
      "execution_count": 38,
      "outputs": [
        {
          "output_type": "stream",
          "text": [
            "Примеров в обучающей выбоке:132588\n",
            "Примеров в тестовой выбоке:33075\n",
            "\n",
            "Пример данных обучающей выборки:\n",
            "arguments,args,self,timeout,defaults,none,body,TryExcept,body,Return,Call,AttributeLoad,AttributeLoad,self,attr,get,timeout,timeout,handlers,ExceptHandler,type,AttributeLoad,AttributeLoad,gevent,queue,empty,body,Raise,Call,NameLoad,timeout\n",
            "Пример метки обучающей выборки:\n",
            "call\n",
            "\n",
            "Пример данных тестовой выборки:\n",
            "arguments,args,self,defaults,body,If,Call,hasattr,self,Str,body,Assign,SubscriptStore,AttributeLoad,os,environ,Index,editor,AttributeLoad,self,attr,orelse,Delete,SubscriptDel,AttributeLoad,os,environ,Index,editor,Assign,AttributeStore,self,plugin,none,Assign,AttributeStore,self,env,none,Expr,Call,AttributeLoad,AttributeLoad,registration,attr,clear,Expr,Call,AttributeLoad,AttributeLoad,registration,attr,clear,Expr,Call,AttributeLoad,Call,super,NameLoad,self,teardown\n",
            "Пример метки обучающей выборки:\n",
            "teardown\n",
            "\n",
            "Уникальных токенов: 9874\n",
            "Уникальных классов: 125\n",
            "\n",
            "Пример данных после data_to_digit: \n",
            "[3645, 3423, 1282, 856, 668, 4107, 6819, 4583, 7553, 668, 4583, 1772, 3485, 1604, 9526, 668, 668, 4583, 368, 3485, 1604, 1282, 1957, 856, 4447, 368, 3485, 1604, 1282, 1957, 856]\n",
            "Пример данных после data_to_digit: \n",
            "31\n",
            "Пример данных после data_to_digit: \n",
            "[3645, 3423, 1282, 4107, 4583, 368, 3485, 1604, 3485, 1080, 4845, 1282, 6425, 2872, 7304, 1282, 9687, 3485, 4845, 2872, 7304, 1282, 5443, 3485, 1604, 254, 6635]\n",
            "Пример данных после data_to_digit: \n",
            "58\n",
            "Пример данных выборки после приведения к одной длине:\n",
            "[   0    0    0    0    0    0    0    0    0    0    0    0    0    0\n",
            "    0    0    0    0    0    0    0    0    0    0    0    0    0    0\n",
            "    0    0    0    0    0    0    0    0    0    0    0    0    0    0\n",
            "    0    0    0    0    0    0    0    0    0    0    0    0    0    0\n",
            "    0    0    0    0    0    0    0    0    0    0    0    0    0    0\n",
            "    0    0    0    0    0    0    0    0    0    0    0    0    0    0\n",
            "    0    0    0    0    0    0    0    0    0    0    0    0    0    0\n",
            "    0    0    0    0    0    0    0    0    0    0    0    0    0    0\n",
            "    0    0    0    0    0    0    0    0    0    0    0    0    0    0\n",
            "    0    0    0    0    0    0    0    0    0    0    0    0    0    0\n",
            "    0    0    0    0    0    0    0    0    0    0    0    0    0    0\n",
            "    0    0    0    0    0    0    0    0    0    0    0    0    0    0\n",
            "    0 3645 3423 1282  856  668 4107 6819 4583 7553  668 4583 1772 3485\n",
            " 1604 9526  668  668 4583  368 3485 1604 1282 1957  856 4447  368 3485\n",
            " 1604 1282 1957  856]\n",
            "\n",
            "Пример данных выборки после приведения к одной длине:\n",
            "[   0    0    0    0    0    0    0    0    0    0    0    0    0    0\n",
            "    0    0    0    0    0    0    0    0    0    0    0    0    0    0\n",
            "    0    0    0    0    0    0    0    0    0    0    0    0    0    0\n",
            "    0    0    0    0    0    0    0    0    0    0    0    0    0    0\n",
            "    0    0    0    0    0    0    0    0    0    0    0    0    0    0\n",
            "    0    0    0    0    0    0    0    0    0    0    0    0    0    0\n",
            "    0    0    0    0    0    0    0    0    0    0    0    0    0    0\n",
            "    0    0    0    0    0    0    0    0    0    0    0    0    0    0\n",
            "    0    0    0    0    0    0    0    0    0    0    0    0    0    0\n",
            "    0    0    0    0    0    0    0    0    0    0    0    0    0    0\n",
            "    0    0    0    0    0    0    0    0    0    0    0    0    0    0\n",
            "    0    0    0    0    0    0    0    0    0    0    0    0    0    0\n",
            "    0    0    0    0    0 3645 3423 1282 4107 4583  368 3485 1604 3485\n",
            " 1080 4845 1282 6425 2872 7304 1282 9687 3485 4845 2872 7304 1282 5443\n",
            " 3485 1604  254 6635]\n",
            "\n",
            "Пример метки выборки:\n",
            "[0. 0. 0. 0. 0. 0. 0. 0. 0. 0. 0. 0. 0. 0. 0. 0. 0. 0. 0. 0. 0. 0. 0. 0.\n",
            " 0. 0. 0. 0. 0. 0. 0. 1. 0. 0. 0. 0. 0. 0. 0. 0. 0. 0. 0. 0. 0. 0. 0. 0.\n",
            " 0. 0. 0. 0. 0. 0. 0. 0. 0. 0. 0. 0. 0. 0. 0. 0. 0. 0. 0. 0. 0. 0. 0. 0.\n",
            " 0. 0. 0. 0. 0. 0. 0. 0. 0. 0. 0. 0. 0. 0. 0. 0. 0. 0. 0. 0. 0. 0. 0. 0.\n",
            " 0. 0. 0. 0. 0. 0. 0. 0. 0. 0. 0. 0. 0. 0. 0. 0. 0. 0. 0. 0. 0. 0. 0. 0.\n",
            " 0. 0. 0. 0. 0.]\n",
            "\n",
            "Пример метки выборки:\n",
            "[0. 0. 0. 0. 0. 0. 0. 0. 0. 0. 0. 0. 0. 0. 0. 0. 0. 0. 0. 0. 0. 0. 0. 0.\n",
            " 0. 0. 0. 0. 0. 0. 0. 0. 0. 0. 0. 0. 0. 0. 0. 0. 0. 0. 0. 0. 0. 0. 0. 0.\n",
            " 0. 0. 0. 0. 0. 0. 0. 0. 0. 0. 1. 0. 0. 0. 0. 0. 0. 0. 0. 0. 0. 0. 0. 0.\n",
            " 0. 0. 0. 0. 0. 0. 0. 0. 0. 0. 0. 0. 0. 0. 0. 0. 0. 0. 0. 0. 0. 0. 0. 0.\n",
            " 0. 0. 0. 0. 0. 0. 0. 0. 0. 0. 0. 0. 0. 0. 0. 0. 0. 0. 0. 0. 0. 0. 0. 0.\n",
            " 0. 0. 0. 0. 0.]\n",
            "\n"
          ],
          "name": "stdout"
        }
      ]
    },
    {
      "cell_type": "markdown",
      "metadata": {
        "id": "UkZdPFvSHdMQ",
        "colab_type": "text"
      },
      "source": [
        "# Выбор модели нейронной сети"
      ]
    },
    {
      "cell_type": "code",
      "metadata": {
        "id": "dDlNtl1LHhpm",
        "colab_type": "code",
        "colab": {}
      },
      "source": [
        "# CNN-Model\n",
        "model_name = 'fnp_cnn'\n",
        "model = Sequential()\n",
        "model.add(Embedding(len(data_converter), 32, input_length=maxlen))\n",
        "model.add(Conv1D(100, 10, activation='relu', padding='same'))\n",
        "model.add(Conv1D(100, 10, activation='relu', padding='same'))\n",
        "model.add(MaxPooling1D(3))\n",
        "model.add(Conv1D(160, 10, activation='relu', padding='same'))\n",
        "model.add(Conv1D(160, 10, activation='relu', padding='same'))\n",
        "model.add(GlobalAveragePooling1D())\n",
        "model.add(Dropout(0.5))\n",
        "model.add(Dense(len(marks_converter), activation='softmax'))"
      ],
      "execution_count": null,
      "outputs": []
    },
    {
      "cell_type": "code",
      "metadata": {
        "id": "MRNDmofNHmf5",
        "colab_type": "code",
        "colab": {}
      },
      "source": [
        "# LSTM-Model\n",
        "model_name = 'fnp_lstm'\n",
        "model = Sequential()\n",
        "model.add(Embedding(len(data_converter), 32, input_length=maxlen))\n",
        "model.add(LSTM(128, return_sequences=True, dropout=0.2))\n",
        "model.add(LSTM(128, dropout=0.2))\n",
        "model.add(Dense(len(marks_converter), activation='softmax'))"
      ],
      "execution_count": 45,
      "outputs": []
    },
    {
      "cell_type": "code",
      "metadata": {
        "id": "Cj4QR88QH0Cq",
        "colab_type": "code",
        "colab": {
          "base_uri": "https://localhost:8080/",
          "height": 301
        },
        "outputId": "516ab404-6034-4455-fcd6-8b9eab941685"
      },
      "source": [
        "model.summary()"
      ],
      "execution_count": 40,
      "outputs": [
        {
          "output_type": "stream",
          "text": [
            "Model: \"sequential_1\"\n",
            "_________________________________________________________________\n",
            "Layer (type)                 Output Shape              Param #   \n",
            "=================================================================\n",
            "embedding_1 (Embedding)      (None, 200, 32)           315968    \n",
            "_________________________________________________________________\n",
            "lstm_2 (LSTM)                (None, 200, 128)          82432     \n",
            "_________________________________________________________________\n",
            "lstm_3 (LSTM)                (None, 128)               131584    \n",
            "_________________________________________________________________\n",
            "dense_1 (Dense)              (None, 125)               16125     \n",
            "=================================================================\n",
            "Total params: 546,109\n",
            "Trainable params: 546,109\n",
            "Non-trainable params: 0\n",
            "_________________________________________________________________\n"
          ],
          "name": "stdout"
        }
      ]
    },
    {
      "cell_type": "markdown",
      "metadata": {
        "id": "x5ao6dMoHvKg",
        "colab_type": "text"
      },
      "source": [
        "# Обучение нейронной сети"
      ]
    },
    {
      "cell_type": "code",
      "metadata": {
        "id": "mwPLNWfzHw4y",
        "colab_type": "code",
        "colab": {}
      },
      "source": [
        "model.compile(\n",
        "    optimizer='adam',\n",
        "    loss='categorical_crossentropy',\n",
        "    metrics=['accuracy']\n",
        ")\n",
        "graph_history = {'accuracy': [], 'val_accuracy': []}"
      ],
      "execution_count": 46,
      "outputs": []
    },
    {
      "cell_type": "code",
      "metadata": {
        "id": "G63YIbRAH4Kt",
        "colab_type": "code",
        "colab": {
          "base_uri": "https://localhost:8080/",
          "height": 925
        },
        "outputId": "7ae64e17-a038-4aca-fc06-0bc597fb6abc"
      },
      "source": [
        "history = model.fit( x_train, y_train,\n",
        "                            validation_data = (x_test, y_test),\n",
        "                            epochs=25,\n",
        "                            batch_size=100,\n",
        "                            shuffle=True,\n",
        "                            verbose=1)\n",
        "graph_history['accuracy'].extend(history.history['accuracy'])\n",
        "graph_history['val_accuracy'].extend(history.history['val_accuracy'])"
      ],
      "execution_count": 47,
      "outputs": [
        {
          "output_type": "stream",
          "text": [
            "Epoch 1/25\n",
            "1326/1326 [==============================] - 47s 35ms/step - loss: 2.9220 - accuracy: 0.3228 - val_loss: 2.4200 - val_accuracy: 0.4135\n",
            "Epoch 2/25\n",
            "1326/1326 [==============================] - 46s 35ms/step - loss: 2.1054 - accuracy: 0.4800 - val_loss: 1.9427 - val_accuracy: 0.5189\n",
            "Epoch 3/25\n",
            "1326/1326 [==============================] - 46s 35ms/step - loss: 1.8054 - accuracy: 0.5420 - val_loss: 1.7321 - val_accuracy: 0.5646\n",
            "Epoch 4/25\n",
            "1326/1326 [==============================] - 46s 35ms/step - loss: 1.5801 - accuracy: 0.5937 - val_loss: 1.5984 - val_accuracy: 0.6002\n",
            "Epoch 5/25\n",
            "1326/1326 [==============================] - 46s 35ms/step - loss: 1.4256 - accuracy: 0.6299 - val_loss: 1.4907 - val_accuracy: 0.6270\n",
            "Epoch 6/25\n",
            "1326/1326 [==============================] - 46s 35ms/step - loss: 1.3115 - accuracy: 0.6583 - val_loss: 1.4363 - val_accuracy: 0.6446\n",
            "Epoch 7/25\n",
            "1326/1326 [==============================] - 46s 35ms/step - loss: 1.2230 - accuracy: 0.6787 - val_loss: 1.3884 - val_accuracy: 0.6517\n",
            "Epoch 8/25\n",
            "1326/1326 [==============================] - 46s 35ms/step - loss: 1.1517 - accuracy: 0.6952 - val_loss: 1.3468 - val_accuracy: 0.6652\n",
            "Epoch 9/25\n",
            "1326/1326 [==============================] - 46s 35ms/step - loss: 1.0923 - accuracy: 0.7083 - val_loss: 1.3178 - val_accuracy: 0.6727\n",
            "Epoch 10/25\n",
            "1326/1326 [==============================] - 46s 35ms/step - loss: 1.0397 - accuracy: 0.7210 - val_loss: 1.3100 - val_accuracy: 0.6767\n",
            "Epoch 11/25\n",
            "1326/1326 [==============================] - 46s 35ms/step - loss: 0.9958 - accuracy: 0.7319 - val_loss: 1.3119 - val_accuracy: 0.6767\n",
            "Epoch 12/25\n",
            "1326/1326 [==============================] - 46s 35ms/step - loss: 0.9611 - accuracy: 0.7390 - val_loss: 1.3019 - val_accuracy: 0.6821\n",
            "Epoch 13/25\n",
            "1326/1326 [==============================] - 46s 35ms/step - loss: 0.9249 - accuracy: 0.7478 - val_loss: 1.2910 - val_accuracy: 0.6872\n",
            "Epoch 14/25\n",
            "1326/1326 [==============================] - 46s 35ms/step - loss: 0.8952 - accuracy: 0.7543 - val_loss: 1.2824 - val_accuracy: 0.6919\n",
            "Epoch 15/25\n",
            "1326/1326 [==============================] - 46s 35ms/step - loss: 0.8666 - accuracy: 0.7612 - val_loss: 1.2858 - val_accuracy: 0.6872\n",
            "Epoch 16/25\n",
            "1326/1326 [==============================] - 46s 35ms/step - loss: 0.8419 - accuracy: 0.7684 - val_loss: 1.2798 - val_accuracy: 0.6908\n",
            "Epoch 17/25\n",
            "1326/1326 [==============================] - 46s 35ms/step - loss: 0.8260 - accuracy: 0.7709 - val_loss: 1.2797 - val_accuracy: 0.6939\n",
            "Epoch 18/25\n",
            "1326/1326 [==============================] - 46s 35ms/step - loss: 0.7984 - accuracy: 0.7768 - val_loss: 1.2828 - val_accuracy: 0.6945\n",
            "Epoch 19/25\n",
            "1326/1326 [==============================] - 46s 35ms/step - loss: 0.7789 - accuracy: 0.7814 - val_loss: 1.2838 - val_accuracy: 0.6971\n",
            "Epoch 20/25\n",
            "1326/1326 [==============================] - 46s 35ms/step - loss: 0.7599 - accuracy: 0.7868 - val_loss: 1.2840 - val_accuracy: 0.6967\n",
            "Epoch 21/25\n",
            "1326/1326 [==============================] - 46s 35ms/step - loss: 0.7436 - accuracy: 0.7895 - val_loss: 1.2871 - val_accuracy: 0.7014\n",
            "Epoch 22/25\n",
            "1326/1326 [==============================] - 46s 35ms/step - loss: 0.7274 - accuracy: 0.7934 - val_loss: 1.3102 - val_accuracy: 0.6988\n",
            "Epoch 23/25\n",
            "1326/1326 [==============================] - 46s 35ms/step - loss: 0.7118 - accuracy: 0.7970 - val_loss: 1.2950 - val_accuracy: 0.7002\n",
            "Epoch 24/25\n",
            "1326/1326 [==============================] - 46s 35ms/step - loss: 0.7014 - accuracy: 0.7991 - val_loss: 1.3076 - val_accuracy: 0.6975\n",
            "Epoch 25/25\n",
            "1326/1326 [==============================] - 46s 35ms/step - loss: 0.6843 - accuracy: 0.8031 - val_loss: 1.3055 - val_accuracy: 0.7030\n"
          ],
          "name": "stdout"
        }
      ]
    },
    {
      "cell_type": "markdown",
      "metadata": {
        "id": "QuxYXMOlIT7l",
        "colab_type": "text"
      },
      "source": [
        "# Проверка качества обучения"
      ]
    },
    {
      "cell_type": "code",
      "metadata": {
        "id": "fUdV8FxEITMQ",
        "colab_type": "code",
        "colab": {
          "base_uri": "https://localhost:8080/",
          "height": 278
        },
        "outputId": "fc7f289c-02ef-4827-c1a2-f86b7d7063f7"
      },
      "source": [
        "plt.plot(graph_history['accuracy'],\n",
        "         label='Доля верных ответов на обучающем наборе')\n",
        "plt.plot(graph_history['val_accuracy'],\n",
        "         label='Доля верных ответов на проверочном наборе')\n",
        "plt.xlabel('Эпоха обучения')\n",
        "plt.ylabel('Доля верных ответов')\n",
        "plt.legend()\n",
        "plt.show()"
      ],
      "execution_count": 48,
      "outputs": [
        {
          "output_type": "display_data",
          "data": {
            "image/png": "[encoded data removed]",
            "text/plain": [
              "<Figure size 432x288 with 1 Axes>"
            ]
          },
          "metadata": {
            "tags": [],
            "needs_background": "light"
          }
        }
      ]
    },
    {
      "cell_type": "code",
      "metadata": {
        "id": "EHY_t59UIXtL",
        "colab_type": "code",
        "colab": {
          "base_uri": "https://localhost:8080/",
          "height": 52
        },
        "outputId": "30f6b76a-7912-4cb5-9214-1cb4f1745c03"
      },
      "source": [
        "scores = model.evaluate(x_test, y_test, verbose=1)\n",
        "print('Доля верных ответов на тестовых данных составляет:',round(scores[1]* 100, 4),'%')"
      ],
      "execution_count": 49,
      "outputs": [
        {
          "output_type": "stream",
          "text": [
            "1034/1034 [==============================] - 9s 9ms/step - loss: 1.3055 - accuracy: 0.7030\n",
            "Доля верных ответов на тестовых данных составляет: 70.2978 %\n"
          ],
          "name": "stdout"
        }
      ]
    },
    {
      "cell_type": "markdown",
      "metadata": {
        "id": "pHpAGk3EIiCs",
        "colab_type": "text"
      },
      "source": [
        "# Сохранить/загрузить модель нейронной сети"
      ]
    },
    {
      "cell_type": "markdown",
      "metadata": {
        "id": "oClxdIISkgFE",
        "colab_type": "text"
      },
      "source": [
        "Сохранение нейронной сети на Google Drive"
      ]
    },
    {
      "cell_type": "code",
      "metadata": {
        "id": "PXeFIavQIloJ",
        "colab_type": "code",
        "colab": {
          "base_uri": "https://localhost:8080/",
          "height": 34
        },
        "outputId": "00d188fe-96a6-4efc-a0a7-b3a4f1ccefb9"
      },
      "source": [
        "from google.colab import drive\n",
        "drive.mount('/content/gdrive')"
      ],
      "execution_count": 34,
      "outputs": [
        {
          "output_type": "stream",
          "text": [
            "Mounted at /content/gdrive\n"
          ],
          "name": "stdout"
        }
      ]
    },
    {
      "cell_type": "code",
      "metadata": {
        "id": "jV2k__rXcTkd",
        "colab_type": "code",
        "colab": {}
      },
      "source": [
        "model.save('gdrive/My Drive/models/function_name_prediction/{name}/maxlen{len}_e{epochs}_p{precent}.h5'.format(\n",
        "    name=model_name,\n",
        "    len=maxlen,\n",
        "    epochs=len(graph_history['accuracy']),\n",
        "    precent=int(graph_history['val_accuracy'][-1]*1000)\n",
        "))"
      ],
      "execution_count": 36,
      "outputs": []
    },
    {
      "cell_type": "markdown",
      "metadata": {
        "id": "ZYO--umAkk4D",
        "colab_type": "text"
      },
      "source": [
        "Сохранение нейронной сети в дерикторию"
      ]
    },
    {
      "cell_type": "code",
      "metadata": {
        "id": "QRBqAJeShjew",
        "colab_type": "code",
        "colab": {}
      },
      "source": [
        "model.save('{name}_maxlen{len}_e{epochs}_p{precent}.h5'.format(\n",
        "    name=model_name,\n",
        "    len=maxlen,\n",
        "    epochs=len(graph_history['accuracy']),\n",
        "    precent=int(graph_history['val_accuracy'][-1]*1000)\n",
        "))"
      ],
      "execution_count": 50,
      "outputs": []
    },
    {
      "cell_type": "markdown",
      "metadata": {
        "id": "s9G3hWFAktTq",
        "colab_type": "text"
      },
      "source": [
        "Загрузка модели нейронной сети из файла"
      ]
    },
    {
      "cell_type": "code",
      "metadata": {
        "id": "LNJAf8uShumg",
        "colab_type": "code",
        "colab": {}
      },
      "source": [
        "MODEL_PATH = ''\n",
        "model = load_model(MODEL_PATH)"
      ],
      "execution_count": null,
      "outputs": []
    }
  ]
}