{
  "nbformat": 4,
  "nbformat_minor": 0,
  "metadata": {
    "colab": {
      "name": "validate.ipynb",
      "provenance": [],
      "collapsed_sections": [],
      "toc_visible": true
    },
    "kernelspec": {
      "name": "python3",
      "display_name": "Python 3"
    },
    "accelerator": "GPU"
  },
  "cells": [
    {
      "cell_type": "markdown",
      "metadata": {
        "id": "TjezDJx9KWMq"
      },
      "source": [
        "# Зависимости"
      ]
    },
    {
      "cell_type": "code",
      "metadata": {
        "id": "3a5KjbPyKPcg"
      },
      "source": [
        "%tensorflow_version 2.x\n",
        "from tensorflow.keras.models import load_model\n",
        "import matplotlib.pyplot as plt\n",
        "import numpy as np\n",
        "\n",
        "from mycsv import split_file\n",
        "from dataset import load_dataset\n",
        "from transform import Converter"
      ],
      "execution_count": null,
      "outputs": []
    },
    {
      "cell_type": "markdown",
      "metadata": {
        "id": "l7HvRm2DKa-n"
      },
      "source": [
        "# Загрузка модели"
      ]
    },
    {
      "cell_type": "code",
      "metadata": {
        "id": "3TNMe4mDKfCK",
        "outputId": "6fe87054-d094-44d0-dbee-d53e91f78f20",
        "colab": {
          "base_uri": "https://localhost:8080/",
          "height": 301
        }
      },
      "source": [
        "MODEL_PATH = 'fnp_lstm_maxlen200_e25_p701.h5'\n",
        "model = load_model(MODEL_PATH)\n",
        "model.summary()"
      ],
      "execution_count": null,
      "outputs": [
        {
          "output_type": "stream",
          "text": [
            "Model: \"sequential\"\n",
            "_________________________________________________________________\n",
            "Layer (type)                 Output Shape              Param #   \n",
            "=================================================================\n",
            "embedding (Embedding)        (None, 200, 32)           316000    \n",
            "_________________________________________________________________\n",
            "lstm (LSTM)                  (None, 200, 128)          82432     \n",
            "_________________________________________________________________\n",
            "lstm_1 (LSTM)                (None, 128)               131584    \n",
            "_________________________________________________________________\n",
            "dense (Dense)                (None, 126)               16254     \n",
            "=================================================================\n",
            "Total params: 546,270\n",
            "Trainable params: 546,270\n",
            "Non-trainable params: 0\n",
            "_________________________________________________________________\n"
          ],
          "name": "stdout"
        }
      ]
    },
    {
      "cell_type": "markdown",
      "metadata": {
        "id": "q42yWlMRU19h"
      },
      "source": [
        "# Загрузка данных для исследования"
      ]
    },
    {
      "cell_type": "code",
      "metadata": {
        "id": "q6g9HV0RU1YA"
      },
      "source": [
        "split_file('dataset.csv', split_ratio=0.8)"
      ],
      "execution_count": null,
      "outputs": []
    },
    {
      "cell_type": "markdown",
      "metadata": {
        "id": "7tJdI61dVFRV"
      },
      "source": [
        "После разделения датасета в дериктории появиться два файла (тренировочный сет и тестовый).\n",
        "\n",
        "* `maxlen` задает максимальную длину последовательности узлов функции (средняя длина последовательности ~50)\n",
        "\n",
        "* `verbose` задает многословность функций обработчиков (то столько будет выводится информации во время обратоки); доступные значения от 0 до 3"
      ]
    },
    {
      "cell_type": "code",
      "metadata": {
        "id": "yl_vwJlaU5Ld"
      },
      "source": [
        "train_file_name = 'train_dataset.csv'\n",
        "test_file_name = 'test_dataset.csv'\n",
        "maxlen = 200\n",
        "verbose = 0"
      ],
      "execution_count": null,
      "outputs": []
    },
    {
      "cell_type": "markdown",
      "metadata": {
        "id": "7Hw8IJJ3-QGf"
      },
      "source": [
        "Загрузка конвертеров из файлов."
      ]
    },
    {
      "cell_type": "code",
      "metadata": {
        "id": "0WNloiKE9cwm"
      },
      "source": [
        "data_converter = Converter.from_file('dictionary_9875.json')\n",
        "marks_converter = Converter.from_file('dictionary_126.json')"
      ],
      "execution_count": null,
      "outputs": []
    },
    {
      "cell_type": "markdown",
      "metadata": {
        "id": "fxgTioj7-aAA"
      },
      "source": [
        "Загрузка данных для исследования."
      ]
    },
    {
      "cell_type": "code",
      "metadata": {
        "id": "GcynCBYqU7gi"
      },
      "source": [
        "dataset = load_dataset(train_file_name, \n",
        "                       test_file_name, \n",
        "                       maxlen,\n",
        "                       data_converter, \n",
        "                       marks_converter,\n",
        "                       verbose\n",
        "                       )\n",
        "x_train, y_train, x_test, y_test, data_converter, marks_converter = dataset"
      ],
      "execution_count": null,
      "outputs": []
    },
    {
      "cell_type": "code",
      "metadata": {
        "id": "8US6NqftXuej",
        "outputId": "1c8a1c63-0d29-477a-db9e-103136a4b6ec",
        "colab": {
          "base_uri": "https://localhost:8080/",
          "height": 72
        }
      },
      "source": [
        "scores = model.evaluate(x_test, y_test, verbose=1)\n",
        "print('Доля верных ответов на тестовых данных составляет:',round(scores[1]* 100, 4),'%')"
      ],
      "execution_count": null,
      "outputs": [
        {
          "output_type": "stream",
          "text": [
            "1034/1034 [==============================] - 11s 10ms/step - loss: 1.3214 - accuracy: 0.7013\n",
            "Доля верных ответов на тестовых данных составляет: 70.1255 %\n"
          ],
          "name": "stdout"
        }
      ]
    },
    {
      "cell_type": "markdown",
      "metadata": {
        "id": "JmHWHGLdajnU"
      },
      "source": [
        "**Загрузка реальных сниппетов функций**"
      ]
    },
    {
      "cell_type": "code",
      "metadata": {
        "id": "UkYFuT9HaqMB"
      },
      "source": [
        "SNIPPETS_PATH = 'real_snippets.csv'\n",
        "snippets = load_dataset(SNIPPETS_PATH, \n",
        "                       SNIPPETS_PATH, \n",
        "                       maxlen,\n",
        "                       data_converter, \n",
        "                       marks_converter,\n",
        "                       verbose\n",
        "                       )\n",
        "x_snippets, y_snippets, x_test, y_test, data_converter, marks_converter = snippets"
      ],
      "execution_count": null,
      "outputs": []
    },
    {
      "cell_type": "markdown",
      "metadata": {
        "id": "loMpiCLRVgbM"
      },
      "source": [
        "# Исследование работы модели на исходном датасете"
      ]
    },
    {
      "cell_type": "markdown",
      "metadata": {
        "id": "eQanVGArof5t"
      },
      "source": [
        "На данном этапе следует проанализировать работу модели на примерах тестовой выборки, с целью исключения функций, которые приводят к коллизиям.\n",
        "\n",
        "Для этого можно проанализировать следующие параметры:\n",
        "\n",
        "1. Вероятность правильного определения функции для каждого имени.\n",
        "\n",
        "2. Самая частотная ошибка при неправильном предсказании."
      ]
    },
    {
      "cell_type": "markdown",
      "metadata": {
        "id": "sTVmPS8IqR_B"
      },
      "source": [
        "### Вероятность правильного определения функции для каждого имени."
      ]
    },
    {
      "cell_type": "code",
      "metadata": {
        "id": "mKJ65i4Ei27B"
      },
      "source": [
        "def make_prediction(model, x):\n",
        "  a = np.array(x)\n",
        "  a = (np.expand_dims (a, 0))\n",
        "  return model.predict(a)[0]"
      ],
      "execution_count": null,
      "outputs": []
    },
    {
      "cell_type": "markdown",
      "metadata": {
        "id": "s2haf5DYqWSV"
      },
      "source": [
        "Общее количсество функций для каждого имени."
      ]
    },
    {
      "cell_type": "code",
      "metadata": {
        "id": "2n0s-hkihHig"
      },
      "source": [
        "counter_names = {}\n",
        "for y in y_test:\n",
        "  index = np.argmax(y)\n",
        "  label = marks_converter.index_to_item(index)\n",
        "  counter_names[label] = counter_names.get(label, 0) + 1"
      ],
      "execution_count": null,
      "outputs": []
    },
    {
      "cell_type": "markdown",
      "metadata": {
        "id": "t0eY90sMqZ4s"
      },
      "source": [
        "Сумма вероятностей для каждого имени функции (оптимизировать)."
      ]
    },
    {
      "cell_type": "code",
      "metadata": {
        "id": "H6imURxdj_hs"
      },
      "source": [
        "counter_prob = {}\n",
        "for i, x in enumerate(x_test):\n",
        "  predict = make_prediction(model, x)\n",
        "  index = np.argmax(y_test[i])\n",
        "  label = marks_converter.index_to_item(index)\n",
        "  counter_prob[label] = counter_prob.get(label, 0) + predict[index]"
      ],
      "execution_count": null,
      "outputs": []
    },
    {
      "cell_type": "markdown",
      "metadata": {
        "id": "Rro1caCdq56V"
      },
      "source": [
        "Сумма всех вероятностей для одного имени деленное на количество функций в выборке дает вероятность правильного определения функции.\n",
        "$$\n",
        "counter\\_prob_i / counter\\_names_i = result_i\n",
        "$$"
      ]
    },
    {
      "cell_type": "code",
      "metadata": {
        "id": "44Z3wZc2h1-U"
      },
      "source": [
        "result = {}\n",
        "for key, score in counter_prob.items():\n",
        "  result[key] = score / counter_names[key]"
      ],
      "execution_count": null,
      "outputs": []
    },
    {
      "cell_type": "code",
      "metadata": {
        "id": "YJErZLJjqgIz"
      },
      "source": [
        "result_dict = [(key, value) for key, value in result_dict.items()]\n",
        "result_dict.sort(key=lambda x: x[1])"
      ],
      "execution_count": null,
      "outputs": []
    },
    {
      "cell_type": "code",
      "metadata": {
        "id": "w_QThOFjrG4o",
        "outputId": "07d08998-48b3-43ed-db91-b787ba8737ea",
        "colab": {
          "base_uri": "https://localhost:8080/",
          "height": 1000
        }
      },
      "source": [
        "result_dict"
      ],
      "execution_count": null,
      "outputs": [
        {
          "output_type": "execute_result",
          "data": {
            "text/plain": [
              "[('cleanup', 0.1345981195973384),\n",
              " ('find', 0.22055030394784922),\n",
              " ('initialize', 0.24273691571900555),\n",
              " ('apply', 0.24458070610991803),\n",
              " ('append', 0.26045350122552297),\n",
              " ('dump', 0.26270877048644997),\n",
              " ('test_basic', 0.2842579569840619),\n",
              " ('info', 0.30137179788026774),\n",
              " ('match', 0.30614181874170326),\n",
              " ('count', 0.3093307565560826),\n",
              " ('check', 0.3108454771842081),\n",
              " ('log', 0.3378594057571021),\n",
              " ('load', 0.34111617746395834),\n",
              " ('get_data', 0.34198933150497146),\n",
              " ('execute', 0.3468818870488327),\n",
              " ('search', 0.3470047648041498),\n",
              " ('put', 0.3491973568334392),\n",
              " ('generate', 0.35211626954198877),\n",
              " ('reset', 0.36025666535568157),\n",
              " ('insert', 0.36156096372678803),\n",
              " ('send', 0.36723636079115063),\n",
              " ('filter', 0.3694627978718701),\n",
              " ('shutdown', 0.3745300633500129),\n",
              " ('value', 0.3746867089800447),\n",
              " ('unicode', 0.376503606672424),\n",
              " ('list', 0.3792045554949073),\n",
              " ('stop', 0.38063007923509956),\n",
              " ('test_simple', 0.38445028225110683),\n",
              " ('show', 0.3998906899524719),\n",
              " ('remove', 0.4003405003498251),\n",
              " ('open', 0.4028332041501685),\n",
              " ('size', 0.41188091679690453),\n",
              " ('prepare', 0.41707801128946614),\n",
              " ('update', 0.42491052619396263),\n",
              " ('set', 0.43464809252684095),\n",
              " ('format', 0.43575574310442605),\n",
              " ('process', 0.44189749701199327),\n",
              " ('flush', 0.449316004903855),\n",
              " ('test', 0.44974814223668835),\n",
              " ('name', 0.4505116989850801),\n",
              " ('install', 0.4507010950448214),\n",
              " ('transform', 0.46321144547831256),\n",
              " ('get_object', 0.471670380305185),\n",
              " ('error', 0.47938561827862713),\n",
              " ('parse', 0.48004175972566426),\n",
              " ('connect', 0.4853386857885482),\n",
              " ('register', 0.48931613734715956),\n",
              " ('add', 0.4909593970225989),\n",
              " ('to_dict', 0.5016878760544993),\n",
              " ('compute', 0.5049198136679288),\n",
              " ('call', 0.5204612143010575),\n",
              " ('clear', 0.5239774712438845),\n",
              " ('emit', 0.5275724901803109),\n",
              " ('test_init', 0.530768467836633),\n",
              " ('configure', 0.534120844244521),\n",
              " ('draw', 0.5411353278911843),\n",
              " ('post', 0.5425260517457721),\n",
              " ('index', 0.5524578565150138),\n",
              " ('serialize', 0.5584744410856123),\n",
              " ('login', 0.5611985502417706),\n",
              " ('close', 0.5705863534042948),\n",
              " ('delete', 0.571610847501898),\n",
              " ('downgrade', 0.5821226966520182),\n",
              " ('str', 0.5863959274563662),\n",
              " ('build', 0.5883584341317996),\n",
              " ('encode', 0.6000863874308199),\n",
              " ('exists', 0.612386406462918),\n",
              " ('get_queryset', 0.6207769917190952),\n",
              " ('get', 0.621976436066124),\n",
              " ('request', 0.6321695351939048),\n",
              " ('values', 0.6355086595958901),\n",
              " ('save', 0.6408285282265789),\n",
              " ('test_get', 0.6532721430107118),\n",
              " ('copy', 0.6534800592053079),\n",
              " ('setitem', 0.6539400563760159),\n",
              " ('repr', 0.6603533983462309),\n",
              " ('getitem', 0.6780585254640326),\n",
              " ('decode', 0.6799664642729367),\n",
              " ('delitem', 0.6866613400519772),\n",
              " ('validate', 0.6904142172227561),\n",
              " ('contains', 0.6939191572221886),\n",
              " ('keys', 0.7041617559667763),\n",
              " ('read', 0.7055701105329448),\n",
              " ('backwards', 0.706242949412461),\n",
              " ('next', 0.7081163784557414),\n",
              " ('write', 0.717689226485146),\n",
              " ('teardown', 0.7236511578377222),\n",
              " ('clean', 0.7240308247232462),\n",
              " ('usage', 0.7282158613452339),\n",
              " ('render', 0.7307893367842375),\n",
              " ('getstate', 0.7350900611561446),\n",
              " ('items', 0.7367122762696151),\n",
              " ('forwards', 0.7403001004162854),\n",
              " ('upgrade', 0.7451922241662565),\n",
              " ('handle', 0.7504202075767161),\n",
              " ('to_python', 0.7601512484062387),\n",
              " ('len', 0.7638468564297713),\n",
              " ('dispatch', 0.7738978334285991),\n",
              " ('new', 0.7749469890104307),\n",
              " ('export', 0.7879170814472384),\n",
              " ('pop', 0.8152303423875704),\n",
              " ('get_absolute_url', 0.8155455416807916),\n",
              " ('setattr', 0.8184531278412852),\n",
              " ('teardownclass', 0.8367199503868745),\n",
              " ('getattr', 0.843811946047634),\n",
              " ('equals', 0.8622884218614334),\n",
              " ('cmp', 0.8821677121926438),\n",
              " ('setup', 0.8872586542023947),\n",
              " ('create', 0.8894719983851557),\n",
              " ('setupclass', 0.9000697001651832),\n",
              " ('setstate', 0.9007355433756139),\n",
              " ('test_main', 0.9149770497598132),\n",
              " ('factory', 0.9389171190707225),\n",
              " ('get_context_data', 0.9439628248746763),\n",
              " ('suite', 0.9572156757434293),\n",
              " ('bytesize', 0.9574533931027116),\n",
              " ('mergefrom', 0.9670449181859432),\n",
              " ('isinitialized', 0.981980337841775),\n",
              " ('get_parser', 0.9832522296060163),\n",
              " ('specificcodecpp', 0.9875786655846938),\n",
              " ('trymerge', 0.9958652135367706),\n",
              " ('outputunchecked', 0.9996803789227097),\n",
              " ('getdatacachefunctions', 0.9999418214515403),\n",
              " ('calculatemodelpredictions', 0.9999941248952606),\n",
              " ('_buildtaglookuptable', 0.9999998807907104)]"
            ]
          },
          "metadata": {
            "tags": []
          },
          "execution_count": 22
        }
      ]
    },
    {
      "cell_type": "markdown",
      "metadata": {
        "id": "fQjXctmoLmUR"
      },
      "source": [
        "# Исследование работы модели на реальных примерах"
      ]
    },
    {
      "cell_type": "code",
      "metadata": {
        "id": "WtOjLasQZHda"
      },
      "source": [
        "#from IPython.display import Image, display\n",
        "#display(Image(''))"
      ],
      "execution_count": null,
      "outputs": []
    },
    {
      "cell_type": "code",
      "metadata": {
        "id": "812LxpzScWwQ"
      },
      "source": [
        "predict = make_prediction(model, x_snippets[0])"
      ],
      "execution_count": null,
      "outputs": []
    },
    {
      "cell_type": "code",
      "metadata": {
        "id": "G6oeMDF9dGe7",
        "outputId": "9a2267d9-ecc9-4d46-d53d-3f88f610f45b",
        "colab": {
          "base_uri": "https://localhost:8080/",
          "height": 35
        }
      },
      "source": [
        "index = np.argmax(predict)\n",
        "label = marks_converter.index_to_item(index)\n",
        "label"
      ],
      "execution_count": null,
      "outputs": [
        {
          "output_type": "execute_result",
          "data": {
            "application/vnd.google.colaboratory.intrinsic+json": {
              "type": "string"
            },
            "text/plain": [
              "'post'"
            ]
          },
          "metadata": {
            "tags": []
          },
          "execution_count": 17
        }
      ]
    }
  ]
}