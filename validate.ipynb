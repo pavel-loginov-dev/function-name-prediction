{
  "nbformat": 4,
  "nbformat_minor": 0,
  "metadata": {
    "colab": {
      "name": "validate.ipynb",
      "provenance": [],
      "collapsed_sections": [],
      "toc_visible": true
    },
    "kernelspec": {
      "name": "python3",
      "display_name": "Python 3"
    }
  },
  "cells": [
    {
      "cell_type": "markdown",
      "metadata": {
        "id": "TjezDJx9KWMq",
        "colab_type": "text"
      },
      "source": [
        "# Зависимости"
      ]
    },
    {
      "cell_type": "code",
      "metadata": {
        "id": "3a5KjbPyKPcg",
        "colab_type": "code",
        "colab": {}
      },
      "source": [
        "%tensorflow_version 2.x\n",
        "from tensorflow.keras.models import load_model\n",
        "import matplotlib.pyplot as plt\n",
        "\n",
        "from mycsv import split_file\n",
        "from dataset import load_dataset\n",
        "from transform import Converter"
      ],
      "execution_count": null,
      "outputs": []
    },
    {
      "cell_type": "markdown",
      "metadata": {
        "id": "l7HvRm2DKa-n",
        "colab_type": "text"
      },
      "source": [
        "# Загрузка модели"
      ]
    },
    {
      "cell_type": "code",
      "metadata": {
        "id": "3TNMe4mDKfCK",
        "colab_type": "code",
        "colab": {
          "base_uri": "https://localhost:8080/",
          "height": 301
        },
        "outputId": "66560dd6-e1e4-4bc9-f7b0-57915a32b583"
      },
      "source": [
        "MODEL_PATH = 'fnp_lstm_maxlen200_e25_p701.h5'\n",
        "model = load_model(MODEL_PATH)\n",
        "model.summary()"
      ],
      "execution_count": null,
      "outputs": [
        {
          "output_type": "stream",
          "text": [
            "Model: \"sequential\"\n",
            "_________________________________________________________________\n",
            "Layer (type)                 Output Shape              Param #   \n",
            "=================================================================\n",
            "embedding (Embedding)        (None, 200, 32)           316000    \n",
            "_________________________________________________________________\n",
            "lstm (LSTM)                  (None, 200, 128)          82432     \n",
            "_________________________________________________________________\n",
            "lstm_1 (LSTM)                (None, 128)               131584    \n",
            "_________________________________________________________________\n",
            "dense (Dense)                (None, 126)               16254     \n",
            "=================================================================\n",
            "Total params: 546,270\n",
            "Trainable params: 546,270\n",
            "Non-trainable params: 0\n",
            "_________________________________________________________________\n"
          ],
          "name": "stdout"
        }
      ]
    },
    {
      "cell_type": "markdown",
      "metadata": {
        "id": "q42yWlMRU19h",
        "colab_type": "text"
      },
      "source": [
        "# Загрузка данных для исследования"
      ]
    },
    {
      "cell_type": "code",
      "metadata": {
        "id": "q6g9HV0RU1YA",
        "colab_type": "code",
        "colab": {}
      },
      "source": [
        "split_file('dataset.csv', split_ratio=0.8)"
      ],
      "execution_count": null,
      "outputs": []
    },
    {
      "cell_type": "markdown",
      "metadata": {
        "id": "7tJdI61dVFRV",
        "colab_type": "text"
      },
      "source": [
        "После разделения датасета в дериктории появиться два файла (тренировочный сет и тестовый).\n",
        "\n",
        "* `maxlen` задает максимальную длину последовательности узлов функции (средняя длина последовательности ~50)\n",
        "\n",
        "* `verbose` задает многословность функций обработчиков (то столько будет выводится информации во время обратоки); доступные значения от 0 до 3"
      ]
    },
    {
      "cell_type": "code",
      "metadata": {
        "id": "yl_vwJlaU5Ld",
        "colab_type": "code",
        "colab": {}
      },
      "source": [
        "train_file_name = 'train_dataset.csv'\n",
        "test_file_name = 'test_dataset.csv'\n",
        "maxlen = 200\n",
        "verbose = 0"
      ],
      "execution_count": null,
      "outputs": []
    },
    {
      "cell_type": "markdown",
      "metadata": {
        "id": "7Hw8IJJ3-QGf",
        "colab_type": "text"
      },
      "source": [
        "Загрузка конвертеров из файлов"
      ]
    },
    {
      "cell_type": "code",
      "metadata": {
        "id": "0WNloiKE9cwm",
        "colab_type": "code",
        "colab": {}
      },
      "source": [
        "data_converter = Converter.from_file('dictionary_9875.json')\n",
        "marks_converter = Converter.from_file('dictionary_126.json')"
      ],
      "execution_count": null,
      "outputs": []
    },
    {
      "cell_type": "markdown",
      "metadata": {
        "id": "fxgTioj7-aAA",
        "colab_type": "text"
      },
      "source": [
        "Загрузка данных для исследования"
      ]
    },
    {
      "cell_type": "code",
      "metadata": {
        "id": "GcynCBYqU7gi",
        "colab_type": "code",
        "colab": {}
      },
      "source": [
        "dataset = load_dataset(train_file_name, \n",
        "                       test_file_name, \n",
        "                       maxlen,\n",
        "                       data_converter, \n",
        "                       marks_converter,\n",
        "                       verbose\n",
        "                       )\n",
        "x_train, y_train, x_test, y_test, data_converter, marks_converter = dataset"
      ],
      "execution_count": null,
      "outputs": []
    },
    {
      "cell_type": "code",
      "metadata": {
        "id": "8US6NqftXuej",
        "colab_type": "code",
        "colab": {
          "base_uri": "https://localhost:8080/",
          "height": 72
        },
        "outputId": "9c1d9033-0222-4654-9c8d-07d8211e7303"
      },
      "source": [
        "scores = model.evaluate(x_test, y_test, verbose=1)\n",
        "print('Доля верных ответов на тестовых данных составляет:',round(scores[1]* 100, 4),'%')"
      ],
      "execution_count": null,
      "outputs": [
        {
          "output_type": "stream",
          "text": [
            "1034/1034 [==============================] - 123s 119ms/step - loss: 1.3214 - accuracy: 0.7013\n",
            "Доля верных ответов на тестовых данных составляет: 70.1255 %\n"
          ],
          "name": "stdout"
        }
      ]
    },
    {
      "cell_type": "markdown",
      "metadata": {
        "id": "loMpiCLRVgbM",
        "colab_type": "text"
      },
      "source": [
        "# Исследование работы модели на исходном датасете"
      ]
    },
    {
      "cell_type": "markdown",
      "metadata": {
        "id": "fQjXctmoLmUR",
        "colab_type": "text"
      },
      "source": [
        "# Исследование работы модели на реальных примерах"
      ]
    }
  ]
}