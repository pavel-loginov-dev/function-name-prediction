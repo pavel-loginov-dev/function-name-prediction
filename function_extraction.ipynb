{
 "cells": [
  {
   "cell_type": "markdown",
   "metadata": {},
   "source": [
    "# Зависимоти"
   ]
  },
  {
   "cell_type": "code",
   "execution_count": 1,
   "metadata": {
    "colab": {},
    "colab_type": "code",
    "id": "G5vd3rNeZQbf"
   },
   "outputs": [],
   "source": [
    "import tarfile\n",
    "import json\n",
    "from settings import (ARCHIVE_PATH, DATASET_TRAIN_PATH,\n",
    "                      DATASET_EVAL_PATH, FUNCTIONS_PATH)\n",
    "from functions import (get_funcs, append_functions_infile,\n",
    "                       load_portion_functions)\n"
   ]
  },
  {
   "cell_type": "markdown",
   "metadata": {},
   "source": [
    "# Названия файлов"
   ]
  },
  {
   "cell_type": "markdown",
   "metadata": {},
   "source": [
    "Названия файлов заданы в модуле `settings.py`.\n",
    "\n",
    "Путь к архиву с датасетом\n",
    " * ARCHIVE_PATH\n",
    "\n",
    "Пути к оригинальным датасетам\n",
    " * DATASET_TRAIN_PATH\n",
    " * DATASET_EVAL_PATH\n",
    "\n",
    "Путь к извлеченным функциям\n",
    " * DATASET_FUNCTIONS_PATH"
   ]
  },
  {
   "cell_type": "markdown",
   "metadata": {},
   "source": [
    "# Выполнение"
   ]
  },
  {
   "cell_type": "markdown",
   "metadata": {},
   "source": [
    "Распаковка архива с датасетами"
   ]
  },
  {
   "cell_type": "code",
   "execution_count": null,
   "metadata": {},
   "outputs": [],
   "source": [
    "with tarfile.open(ARCHIVE_PATH) as tar:\n",
    "    tar.extractall()"
   ]
  },
  {
   "cell_type": "markdown",
   "metadata": {},
   "source": [
    "### Порциональное извлечение функций из основного датасета\n",
    "Из-за большого размера файлов оперативная память не справиться с обработкой, поэтому производится порциональное извлечение функций из датасета.\n",
    "\n",
    "* batch - размер порции (1000 для ОЗУ объемом 4 Гб)"
   ]
  },
  {
   "cell_type": "code",
   "execution_count": 3,
   "metadata": {},
   "outputs": [
    {
     "name": "stdout",
     "output_type": "stream",
     "text": [
      "|     |\n",
      "[#####] Completed!\n"
     ]
    }
   ],
   "source": [
    "batch = 1000\n",
    "for path in [DATASET_TRAIN_PATH, DATASET_EVAL_PATH]:\n",
    "    num_batches = 100 if '100' in path else 50\n",
    "    print('|' + ' '*num_batches + '|')\n",
    "    print('[', end='')\n",
    "    pos = 0\n",
    "    for i in range(num_batches):\n",
    "        portion, pos = load_portion_functions(path, pos, batch)\n",
    "        append_functions_infile(FUNCTIONS_PATH, portion)\n",
    "        print('#',end='')\n",
    "    print('] (1/2)')\n",
    "print('Completed!')"
   ]
  }
 ],
 "metadata": {
  "accelerator": "GPU",
  "colab": {
   "collapsed_sections": [],
   "name": "data_preparation.ipynb",
   "provenance": []
  },
  "kernelspec": {
   "display_name": "Python 3",
   "language": "python",
   "name": "python3"
  },
  "language_info": {
   "codemirror_mode": {
    "name": "ipython",
    "version": 3
   },
   "file_extension": ".py",
   "mimetype": "text/x-python",
   "name": "python",
   "nbconvert_exporter": "python",
   "pygments_lexer": "ipython3",
   "version": "3.8.2"
  }
 },
 "nbformat": 4,
 "nbformat_minor": 1
}
