{
 "cells": [
  {
   "cell_type": "markdown",
   "metadata": {},
   "source": [
    "# Зависимоти"
   ]
  },
  {
   "cell_type": "code",
   "execution_count": 1,
   "metadata": {
    "colab": {},
    "colab_type": "code",
    "id": "G5vd3rNeZQbf"
   },
   "outputs": [],
   "source": [
    "import tarfile\n",
    "import json\n",
    "from settings import (ARCHIVE_PATH, DATASET_TRAIN_PATH,\n",
    "                      DATASET_EVAL_PATH, FUNCTIONS_PATH)\n",
    "from shortcuts import (get_funcs_from_module, append_functions_in_json,\n",
    "                       read_portion_data, simplify_functions)"
   ]
  },
  {
   "cell_type": "markdown",
   "metadata": {},
   "source": [
    "# Названия файлов"
   ]
  },
  {
   "cell_type": "markdown",
   "metadata": {},
   "source": [
    "Названия файлов заданы в модуле `settings.py`.\n",
    "\n",
    "Путь к архиву с датасетом\n",
    " * ARCHIVE_PATH\n",
    "\n",
    "Пути к оригинальным датасетам\n",
    " * DATASET_TRAIN_PATH\n",
    " * DATASET_EVAL_PATH\n",
    "\n",
    "Путь к извлеченным функциям\n",
    " * FUNCTIONS_PATH"
   ]
  },
  {
   "cell_type": "markdown",
   "metadata": {},
   "source": [
    "# Выполнение"
   ]
  },
  {
   "cell_type": "markdown",
   "metadata": {},
   "source": [
    "Распаковка архива с датасетами"
   ]
  },
  {
   "cell_type": "code",
   "execution_count": null,
   "metadata": {},
   "outputs": [],
   "source": [
    "with tarfile.open(ARCHIVE_PATH) as tar:\n",
    "    tar.extractall()"
   ]
  },
  {
   "cell_type": "markdown",
   "metadata": {},
   "source": [
    "### Порциональное извлечение функций из основного датасета\n",
    "Из-за большого размера файлов оперативная память не справиться с обработкой, поэтому производится порциональное извлечение функций из датасета.\n",
    "\n",
    "* batch_size - размер порции (1000 для ОЗУ объемом 4 Гб)"
   ]
  },
  {
   "cell_type": "code",
   "execution_count": null,
   "metadata": {},
   "outputs": [],
   "source": [
    "batch_size = 1000\n",
    "\n",
    "# train dataset содержит 100 программ (модулей)\n",
    "# test dataset содержит 50 программ (модулей)\n",
    "datasets = [\n",
    "    (DATASET_TRAIN_PATH, 100),\n",
    "    (DATASET_EVAL_PATH, 50)\n",
    "]\n",
    "\n",
    "for path, num_batches in datasets:\n",
    "    print('|' + ' '*num_batches//2 + '|')\n",
    "    print('[', end='')\n",
    "    pos = 0 # начальная позиция чтения файла\n",
    "    \n",
    "    for i in range(num_batches):\n",
    "        modules, pos = read_portion_data(path, pos, batch_size)\n",
    "        \n",
    "        functions = []\n",
    "        for module in modules:\n",
    "            module = json.loads(module)\n",
    "            functions.extend(get_funcs_from_module(module))\n",
    "        functions = simplify_functions(functions)    \n",
    "        append_functions_in_json(FUNCTIONS_PATH, functions)\n",
    "        \n",
    "        if i % 2 == 0: print('#',end='')\n",
    "    print('] (1/2)')\n",
    "print('Completed!')"
   ]
  }
 ],
 "metadata": {
  "accelerator": "GPU",
  "colab": {
   "collapsed_sections": [],
   "name": "data_preparation.ipynb",
   "provenance": []
  },
  "kernelspec": {
   "display_name": "Python 3",
   "language": "python",
   "name": "python3"
  },
  "language_info": {
   "codemirror_mode": {
    "name": "ipython",
    "version": 3
   },
   "file_extension": ".py",
   "mimetype": "text/x-python",
   "name": "python",
   "nbconvert_exporter": "python",
   "pygments_lexer": "ipython3",
   "version": "3.8.2"
  }
 },
 "nbformat": 4,
 "nbformat_minor": 1
}
