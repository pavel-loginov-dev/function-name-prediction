{
 "cells": [
  {
   "cell_type": "markdown",
   "metadata": {
    "id": "fOPS5zVnNUq0"
   },
   "source": [
    "# Зависимоти"
   ]
  },
  {
   "cell_type": "code",
   "execution_count": null,
   "metadata": {
    "id": "G5vd3rNeZQbf"
   },
   "outputs": [],
   "source": [
    "import tarfile\n",
    "import json\n",
    "from core.settings import (ARCHIVE_PATH, DATASET_TRAIN_PATH,\n",
    "                          DATASET_EVAL_PATH, FUNCTIONS_PATH,\n",
    "                          DATASETS_FOLDER)\n",
    "from core.dataprocess import (get_funcs_from_module, \n",
    "                              append_functions_in_json,\n",
    "                              read_portion_data, \n",
    "                              simplify_functions)"
   ]
  },
  {
   "cell_type": "markdown",
   "metadata": {
    "id": "Q28K8zJDNUrA"
   },
   "source": [
    "# Названия файлов"
   ]
  },
  {
   "cell_type": "markdown",
   "metadata": {
    "id": "xGD4spXjNUrB"
   },
   "source": [
    "Названия файлов заданы в модуле `settings.py`.\n",
    "\n",
    "Путь к папке с датасетами\n",
    " * `DATASETS_FOLDER`.\n",
    "\n",
    "Путь к архиву с датасетом\n",
    " * `ARCHIVE_PATH`.\n",
    "\n",
    "Пути к оригинальным датасетам\n",
    " * `DATASET_TRAIN_PATH`;\n",
    " * `DATASET_EVAL_PATH`.\n",
    "\n",
    "Путь к извлеченным функциям\n",
    " * `FUNCTIONS_PATH`."
   ]
  },
  {
   "cell_type": "markdown",
   "metadata": {
    "id": "pywZ-gPmNUrB"
   },
   "source": [
    "# Выполнение"
   ]
  },
  {
   "cell_type": "markdown",
   "metadata": {
    "id": "eDastZJjNUrC"
   },
   "source": [
    "Распаковка архива с датасетами"
   ]
  },
  {
   "cell_type": "code",
   "execution_count": null,
   "metadata": {
    "id": "YQOoNloWNUrC"
   },
   "outputs": [],
   "source": [
    "with tarfile.open(ARCHIVE_PATH) as tar:\n",
    "    tar.extractall(DATASETS_FOLDER)"
   ]
  },
  {
   "cell_type": "markdown",
   "metadata": {
    "id": "LBGG4qfKNUrD"
   },
   "source": [
    "### Порциональное извлечение функций из основного датасета\n",
    "Из-за большого размера файлов оперативная память не справиться с обработкой, поэтому производится порциональное извлечение функций из датасета.\n",
    "\n",
    "* batch_size - размер порции (1000 для ОЗУ объемом 4 Гб)"
   ]
  },
  {
   "cell_type": "code",
   "execution_count": null,
   "metadata": {
    "colab": {
     "base_uri": "https://localhost:8080/"
    },
    "id": "C1s1u6VpNUrD",
    "outputId": "7712e2ba-f94e-4d24-cd0c-108078688d55"
   },
   "outputs": [],
   "source": [
    "batch_size = 1000\n",
    "\n",
    "# train dataset содержит 100 программ (модулей)\n",
    "# test dataset содержит 50 программ (модулей)\n",
    "datasets = [\n",
    "    (DATASET_TRAIN_PATH, 100),\n",
    "    (DATASET_EVAL_PATH, 50)\n",
    "]\n",
    "\n",
    "for path, num_batches in datasets:\n",
    "    print('|' + ' '*(num_batches//2) + '|')\n",
    "    print('[', end='')\n",
    "    pos = 0 # начальная позиция чтения файла\n",
    "    \n",
    "    for i in range(num_batches):\n",
    "        modules, pos = read_portion_data(path, pos, batch_size)\n",
    "        \n",
    "        functions = []\n",
    "        for module in modules:\n",
    "            module = json.loads(module)\n",
    "            functions.extend(get_funcs_from_module(module))\n",
    "        functions = simplify_functions(functions)    \n",
    "        append_functions_in_json(FUNCTIONS_PATH, functions)\n",
    "        \n",
    "        if i % 2 == 0: print('#',end='')\n",
    "    print('] (1/2)')\n",
    "print('Completed!')"
   ]
  }
 ],
 "metadata": {
  "accelerator": "GPU",
  "colab": {
   "collapsed_sections": [],
   "name": "extraction.ipynb",
   "provenance": [],
   "toc_visible": true
  },
  "kernelspec": {
   "display_name": "Python 3",
   "language": "python",
   "name": "python3"
  },
  "language_info": {
   "codemirror_mode": {
    "name": "ipython",
    "version": 3
   },
   "file_extension": ".py",
   "mimetype": "text/x-python",
   "name": "python",
   "nbconvert_exporter": "python",
   "pygments_lexer": "ipython3",
   "version": "3.6.8"
  }
 },
 "nbformat": 4,
 "nbformat_minor": 1
}
