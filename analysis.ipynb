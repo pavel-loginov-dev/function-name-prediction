{
 "cells": [
  {
   "cell_type": "markdown",
   "metadata": {},
   "source": [
    "# Зависимости"
   ]
  },
  {
   "cell_type": "code",
   "execution_count": null,
   "metadata": {},
   "outputs": [],
   "source": [
    "import csv\n",
    "import json\n",
    "import random\n",
    "\n",
    "from core.settings import (FUNCTIONS_PATH, \n",
    "                           FILTERED_FUNCTIONS_PATH, \n",
    "                           DATASET_PATH,\n",
    "                           UNIQ_NAMES_PATH,\n",
    "                           UNIQ_VALUES_PATH)\n",
    "from core.dataprocess import (read_portion_data, \n",
    "                              append_functions_in_json, \n",
    "                              filter_functions_name, \n",
    "                              dataset_save_to_csv, \n",
    "                              load_functions_from_json,\n",
    "                              timer,\n",
    "                              count_file_lines,\n",
    "                              get_uniq_dictcounters,\n",
    "                              dictcounter_to_json,\n",
    "                              dictcounter_from_json,\n",
    "                              cut_dictcounter,\n",
    "                              filter_functions)"
   ]
  },
  {
   "cell_type": "markdown",
   "metadata": {},
   "source": [
    "# Выполнение анализа имен функций"
   ]
  },
  {
   "cell_type": "markdown",
   "metadata": {},
   "source": [
    "### Подсчёт количества функций\n",
    "\n",
    "Ондна функция занимает одну строку в файле. Поэтому необходимо посчитать количество строк в файле с функциями."
   ]
  },
  {
   "cell_type": "code",
   "execution_count": null,
   "metadata": {},
   "outputs": [],
   "source": [
    "funcs_num = count_file_lines(FUNCTIONS_PATH)\n",
    "\n",
    "print('Общее количество функций в датасете:', funcs_num)"
   ]
  },
  {
   "cell_type": "markdown",
   "metadata": {},
   "source": [
    "### Подсчет уникальных имен функций и значений узлов\n",
    "\n",
    "* `unames` - словарь-счетчик уникальных имен функций\n",
    "\n",
    "* `uvalues` - словарь-счетчик уникальных значений узлов функций\n",
    "\n",
    "Словарь-счетчик:\n",
    "    \n",
    "`dict -> {item: amount, item2: amount2, ...}`"
   ]
  },
  {
   "cell_type": "code",
   "execution_count": null,
   "metadata": {},
   "outputs": [],
   "source": [
    "unames, uvalues = get_uniq_dictcounters(FUNCTIONS_PATH)\n",
    "\n",
    "print(f'Уникальных имен функций: {len(unames)}\\n' \\\n",
    "        f'Уникальных значений узлов: {len(uvalues)}')"
   ]
  },
  {
   "cell_type": "markdown",
   "metadata": {},
   "source": [
    "**Импорт/экспорт уникальных значений и имен функций в/из файл(а) json.**"
   ]
  },
  {
   "cell_type": "code",
   "execution_count": null,
   "metadata": {},
   "outputs": [],
   "source": [
    "# экспорт\n",
    "dictcounter_to_json(unames, UNIQ_NAMES_PATH)\n",
    "dictcounter_to_json(uvalues, UNIQ_VALUES_PATH)"
   ]
  },
  {
   "cell_type": "code",
   "execution_count": null,
   "metadata": {},
   "outputs": [],
   "source": [
    "# импорт\n",
    "unames = dictcounter_from_json(UNIQ_NAMES_PATH)\n",
    "uvalues = dictcounter_from_json(UNIQ_VALUES_PATH)\n",
    "\n",
    "print(f'Уникальных имен функций: {len(unames)}\\n' \\\n",
    "        f'Уникальных значений узлов: {len(uvalues)}')"
   ]
  },
  {
   "cell_type": "markdown",
   "metadata": {},
   "source": [
    "### Выбор самых частотных имен функций\n",
    "\n",
    "`*_th` - (thresholder) задает порог вхождения имен функций или значений в выборку. Если имен или значений больше порога, то такое имя или значение входит в выборку, а которые не входят отбрасываются."
   ]
  },
  {
   "cell_type": "code",
   "execution_count": null,
   "metadata": {},
   "outputs": [],
   "source": [
    "name_th = 400\n",
    "value_th = 250\n",
    "\n",
    "unames = cut_dictcounter(unames, name_th)\n",
    "uvalues = cut_dictcounter(uvalues, value_th)\n",
    "\n",
    "print(f'Уникальных имен функций, после сокращения: {len(unames)}\\n' \\\n",
    "        f'Уникальных значений узлов, после сокращения: {len(uvalues)}')"
   ]
  },
  {
   "cell_type": "markdown",
   "metadata": {},
   "source": [
    "### Фильтрация имен функций"
   ]
  },
  {
   "cell_type": "markdown",
   "metadata": {},
   "source": [
    "**Плохие имена**\n",
    "\n",
    "В выборку попадают функции, которые сложно классифицировать по их сниппету, поэтому такие имена функций исключаются из выборки."
   ]
  },
  {
   "cell_type": "code",
   "execution_count": null,
   "metadata": {},
   "outputs": [],
   "source": [
    "bad_names = ['teardown', 'check', 'shutdown', 'size', 'cleanup', 'main', 'run', 'init', 'iter', 'enter', 'hash', 'start', 'nonzero', 'func', 'foo', '_run', '__call__', '__enter__', '__exit__', '__new__', 'func', 'fn', 'cb', 'g', 'backwards', 'forwards']\n",
    "unames = set(filter(\n",
    "    lambda name: name not in bad_names and len(name) > 2, unames\n",
    "))"
   ]
  },
  {
   "cell_type": "code",
   "execution_count": null,
   "metadata": {},
   "outputs": [],
   "source": [
    "print('Уникальных имен функций после фильтрации: ', len(unames))"
   ]
  },
  {
   "cell_type": "markdown",
   "metadata": {},
   "source": [
    "### Фильтрация уникальных значений\n",
    "\n",
    "Избавление от значений не несущих много информации"
   ]
  },
  {
   "cell_type": "code",
   "execution_count": null,
   "metadata": {},
   "outputs": [],
   "source": [
    "#uvalues = set(filter(lambda value: len(value) > 1, uvalues)) # ?"
   ]
  },
  {
   "cell_type": "code",
   "execution_count": null,
   "metadata": {},
   "outputs": [],
   "source": [
    "print('Уникальных значений после фильтрации: ', len(uvalues))"
   ]
  },
  {
   "cell_type": "markdown",
   "metadata": {},
   "source": [
    "## Фильтрация функций по выбранным именам и трансформация узлов\n",
    "\n",
    "Все функции из файла `functions.json` будут отфильтрованы по имени и записаны в новый файл `filtered_functions.json`."
   ]
  },
  {
   "cell_type": "markdown",
   "metadata": {},
   "source": [
    "### Фильтрация по имени\n",
    "\n",
    "Сохранение отфильтрованных функций json файл в (`FILTERED_FUNCTIONS_PATH`)."
   ]
  },
  {
   "cell_type": "code",
   "execution_count": null,
   "metadata": {},
   "outputs": [],
   "source": [
    "ff_num = filter_functions(FUNCTIONS_PATH, FILTERED_FUNCTIONS_PATH, unames)\n",
    "\n",
    "print('Количество функций после фильтрации:', ff_num)"
   ]
  },
  {
   "cell_type": "markdown",
   "metadata": {},
   "source": [
    "### Трансформация узлов\n",
    "\n",
    "Загрузка отфильтрованных функций из json файла (`FILTERED_FUNCTIONS_PATH`)."
   ]
  },
  {
   "cell_type": "code",
   "execution_count": null,
   "metadata": {},
   "outputs": [],
   "source": [
    "functions = load_functions_from_json(FILTERED_FUNCTIONS_PATH)\n",
    "\n",
    "print('Количество функций:', len(functions))"
   ]
  },
  {
   "cell_type": "code",
   "execution_count": null,
   "metadata": {},
   "outputs": [],
   "source": [
    "random.shuffle(functions)"
   ]
  },
  {
   "cell_type": "markdown",
   "metadata": {},
   "source": [
    "#### Извлечение названия функции из функции\n",
    "\n",
    "Удаление из обучающей выборки названия функции и сохранение в отдельном массиве для дальнейшей валидации."
   ]
  },
  {
   "cell_type": "code",
   "execution_count": null,
   "metadata": {},
   "outputs": [],
   "source": [
    "# Проверка, что все первые узлы последовательностей\n",
    "# являются объявлением функции\n",
    "for func in functions:\n",
    "    assert func[0]['type'] == 'FunctionDef'"
   ]
  },
  {
   "cell_type": "code",
   "execution_count": null,
   "metadata": {},
   "outputs": [],
   "source": [
    "labels = []\n",
    "for i, func in enumerate(functions):\n",
    "    labels.append(functions[i][0]['value'])\n",
    "    del functions[i][0]"
   ]
  },
  {
   "cell_type": "markdown",
   "metadata": {},
   "source": [
    "#### Трансформация"
   ]
  },
  {
   "cell_type": "code",
   "execution_count": null,
   "metadata": {},
   "outputs": [],
   "source": [
    "for i,function in enumerate(functions):\n",
    "    for j,node in enumerate(function):\n",
    "        try:\n",
    "            functions[i][j] = node['value'] if node['value'] in uvalues else node['type']\n",
    "        except KeyError:\n",
    "            functions[i][j] = node['type']\n",
    "            \n",
    "        bad_symbols = ['\\n', \"'\", '\"', '\\r', '\\0']\n",
    "        for bs in bad_symbols:\n",
    "            functions[i][j] = functions[i][j].replace(bs, ' ')"
   ]
  },
  {
   "cell_type": "code",
   "execution_count": null,
   "metadata": {},
   "outputs": [],
   "source": [
    "# Проверка, что у каждой последовательности есть лэйбл\n",
    "assert len(labels) == len(functions)"
   ]
  },
  {
   "cell_type": "code",
   "execution_count": null,
   "metadata": {},
   "outputs": [],
   "source": [
    "print('Пример лэйбла и последовательности:')\n",
    "print(labels[0])\n",
    "print(functions[0])"
   ]
  },
  {
   "cell_type": "code",
   "execution_count": null,
   "metadata": {},
   "outputs": [],
   "source": [
    "ave = sum(len(func) for func in functions) / len(functions)\n",
    "print('Средняя длина вектора АСД: ' + str(ave))"
   ]
  },
  {
   "cell_type": "markdown",
   "metadata": {},
   "source": [
    "**Схожая логика функции**\n",
    "\n",
    "Объединение названий меток функций. Используется для функций со схожей логикой работы."
   ]
  },
  {
   "cell_type": "code",
   "execution_count": null,
   "metadata": {},
   "outputs": [],
   "source": [
    "labels_converter = {\n",
    "    'getitem': 'get',\n",
    "    'getattr': 'get',\n",
    "    'setitem': 'set',\n",
    "    'setattr': 'set',\n",
    "    'unicode': 'str',\n",
    "    'repr': 'str',\n",
    "    'delete': 'remove',\n",
    "    'delitem': 'remove',\n",
    "    'test_init': 'test',\n",
    "    'test_simple': 'test',\n",
    "    'setupclass': 'setup',\n",
    "    'teardownclass': 'teardown',\n",
    "    'contains': 'exists',\n",
    "}\n",
    "for i, label in enumerate(labels):\n",
    "    if label in labels_converter:\n",
    "        labels[i] = labels_converter[label]"
   ]
  },
  {
   "cell_type": "markdown",
   "metadata": {},
   "source": [
    "# Сохранение финального датасета"
   ]
  },
  {
   "cell_type": "markdown",
   "metadata": {},
   "source": [
    "Соединение функции с ее меткой (названием)"
   ]
  },
  {
   "cell_type": "code",
   "execution_count": null,
   "metadata": {},
   "outputs": [],
   "source": [
    "functions_dataset = [(label, func) for (label, func) in zip(labels, functions)]"
   ]
  },
  {
   "cell_type": "markdown",
   "metadata": {},
   "source": [
    "Сохранение финального датасета для обучения в `.csv` файл"
   ]
  },
  {
   "cell_type": "code",
   "execution_count": null,
   "metadata": {},
   "outputs": [],
   "source": [
    "dataset_save_to_csv(DATASET_PATH, functions_dataset)"
   ]
  },
  {
   "cell_type": "code",
   "execution_count": null,
   "metadata": {},
   "outputs": [],
   "source": [
    "#end"
   ]
  }
 ],
 "metadata": {
  "kernelspec": {
   "display_name": "Python 3",
   "language": "python",
   "name": "python3"
  },
  "language_info": {
   "codemirror_mode": {
    "name": "ipython",
    "version": 3
   },
   "file_extension": ".py",
   "mimetype": "text/x-python",
   "name": "python",
   "nbconvert_exporter": "python",
   "pygments_lexer": "ipython3",
   "version": "3.6.8"
  }
 },
 "nbformat": 4,
 "nbformat_minor": 4
}
